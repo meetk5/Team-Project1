{
 "cells": [
  {
   "cell_type": "code",
   "execution_count": 1,
   "metadata": {},
   "outputs": [],
   "source": [
    "import pandas as pd\n",
    "import numpy as np\n",
    "import matplotlib.pyplot as plt\n",
    "import scipy.stats as sts\n",
    "import csv\n",
    "import seaborn as sns"
   ]
  },
  {
   "cell_type": "code",
   "execution_count": 2,
   "metadata": {},
   "outputs": [],
   "source": [
    "#unemployment_csv_path= \"./NJ_NY_PA_Unemployment_Data.csv\"\n",
    "\n",
    "excel_file = 'NJ_NY_PA_Unemployment_Data.xlsx'\n",
    "unemployment= pd.read_excel(excel_file)\n"
   ]
  },
  {
   "cell_type": "code",
   "execution_count": 3,
   "metadata": {},
   "outputs": [
    {
     "data": {
      "text/html": [
       "<div>\n",
       "<style scoped>\n",
       "    .dataframe tbody tr th:only-of-type {\n",
       "        vertical-align: middle;\n",
       "    }\n",
       "\n",
       "    .dataframe tbody tr th {\n",
       "        vertical-align: top;\n",
       "    }\n",
       "\n",
       "    .dataframe thead th {\n",
       "        text-align: right;\n",
       "    }\n",
       "</style>\n",
       "<table border=\"1\" class=\"dataframe\">\n",
       "  <thead>\n",
       "    <tr style=\"text-align: right;\">\n",
       "      <th></th>\n",
       "      <th>State</th>\n",
       "      <th>Month</th>\n",
       "      <th>Year</th>\n",
       "      <th>Unemployment Rate</th>\n",
       "    </tr>\n",
       "  </thead>\n",
       "  <tbody>\n",
       "    <tr>\n",
       "      <th>0</th>\n",
       "      <td>PA</td>\n",
       "      <td>January</td>\n",
       "      <td>2019</td>\n",
       "      <td>4.0</td>\n",
       "    </tr>\n",
       "    <tr>\n",
       "      <th>1</th>\n",
       "      <td>PA</td>\n",
       "      <td>February</td>\n",
       "      <td>2019</td>\n",
       "      <td>3.9</td>\n",
       "    </tr>\n",
       "    <tr>\n",
       "      <th>2</th>\n",
       "      <td>PA</td>\n",
       "      <td>March</td>\n",
       "      <td>2019</td>\n",
       "      <td>3.9</td>\n",
       "    </tr>\n",
       "    <tr>\n",
       "      <th>3</th>\n",
       "      <td>PA</td>\n",
       "      <td>April</td>\n",
       "      <td>2019</td>\n",
       "      <td>3.8</td>\n",
       "    </tr>\n",
       "    <tr>\n",
       "      <th>4</th>\n",
       "      <td>PA</td>\n",
       "      <td>May</td>\n",
       "      <td>2019</td>\n",
       "      <td>3.8</td>\n",
       "    </tr>\n",
       "    <tr>\n",
       "      <th>...</th>\n",
       "      <td>...</td>\n",
       "      <td>...</td>\n",
       "      <td>...</td>\n",
       "      <td>...</td>\n",
       "    </tr>\n",
       "    <tr>\n",
       "      <th>81</th>\n",
       "      <td>NJ</td>\n",
       "      <td>January</td>\n",
       "      <td>2021</td>\n",
       "      <td>7.8</td>\n",
       "    </tr>\n",
       "    <tr>\n",
       "      <th>82</th>\n",
       "      <td>NJ</td>\n",
       "      <td>February</td>\n",
       "      <td>2021</td>\n",
       "      <td>7.8</td>\n",
       "    </tr>\n",
       "    <tr>\n",
       "      <th>83</th>\n",
       "      <td>NJ</td>\n",
       "      <td>March</td>\n",
       "      <td>2021</td>\n",
       "      <td>7.6</td>\n",
       "    </tr>\n",
       "    <tr>\n",
       "      <th>84</th>\n",
       "      <td>NJ</td>\n",
       "      <td>April</td>\n",
       "      <td>2021</td>\n",
       "      <td>7.5</td>\n",
       "    </tr>\n",
       "    <tr>\n",
       "      <th>85</th>\n",
       "      <td>NJ</td>\n",
       "      <td>May</td>\n",
       "      <td>2021</td>\n",
       "      <td>7.2</td>\n",
       "    </tr>\n",
       "  </tbody>\n",
       "</table>\n",
       "<p>86 rows × 4 columns</p>\n",
       "</div>"
      ],
      "text/plain": [
       "   State    Month   Year  Unemployment Rate\n",
       "0     PA   January  2019                4.0\n",
       "1     PA  February  2019                3.9\n",
       "2     PA     March  2019                3.9\n",
       "3     PA     April  2019                3.8\n",
       "4     PA       May  2019                3.8\n",
       "..   ...       ...   ...                ...\n",
       "81    NJ   January  2021                7.8\n",
       "82    NJ  February  2021                7.8\n",
       "83    NJ     March  2021                7.6\n",
       "84    NJ     April  2021                7.5\n",
       "85    NJ       May  2021                7.2\n",
       "\n",
       "[86 rows x 4 columns]"
      ]
     },
     "execution_count": 3,
     "metadata": {},
     "output_type": "execute_result"
    }
   ],
   "source": [
    "#Read the excel file\n",
    "\n",
    "unemployment"
   ]
  },
  {
   "cell_type": "code",
   "execution_count": 4,
   "metadata": {},
   "outputs": [
    {
     "data": {
      "text/plain": [
       "Index(['State', 'Month ', 'Year', 'Unemployment Rate'], dtype='object')"
      ]
     },
     "execution_count": 4,
     "metadata": {},
     "output_type": "execute_result"
    }
   ],
   "source": [
    "unemployment.columns"
   ]
  },
  {
   "cell_type": "code",
   "execution_count": 5,
   "metadata": {},
   "outputs": [],
   "source": [
    "column_names=unemployment.columns.tolist()"
   ]
  },
  {
   "cell_type": "code",
   "execution_count": 6,
   "metadata": {},
   "outputs": [],
   "source": [
    "column_names[1]=\"Month\""
   ]
  },
  {
   "cell_type": "code",
   "execution_count": 7,
   "metadata": {},
   "outputs": [
    {
     "data": {
      "text/plain": [
       "['State', 'Month', 'Year', 'Unemployment Rate']"
      ]
     },
     "execution_count": 7,
     "metadata": {},
     "output_type": "execute_result"
    }
   ],
   "source": [
    "#Reassign variable\n",
    "unemployment.columns=column_names\n",
    "column_names"
   ]
  },
  {
   "cell_type": "code",
   "execution_count": 8,
   "metadata": {},
   "outputs": [
    {
     "data": {
      "text/html": [
       "<div>\n",
       "<style scoped>\n",
       "    .dataframe tbody tr th:only-of-type {\n",
       "        vertical-align: middle;\n",
       "    }\n",
       "\n",
       "    .dataframe tbody tr th {\n",
       "        vertical-align: top;\n",
       "    }\n",
       "\n",
       "    .dataframe thead th {\n",
       "        text-align: right;\n",
       "    }\n",
       "</style>\n",
       "<table border=\"1\" class=\"dataframe\">\n",
       "  <thead>\n",
       "    <tr style=\"text-align: right;\">\n",
       "      <th></th>\n",
       "      <th>State</th>\n",
       "      <th>Month</th>\n",
       "      <th>Year</th>\n",
       "      <th>Unemployment Rate</th>\n",
       "    </tr>\n",
       "  </thead>\n",
       "  <tbody>\n",
       "    <tr>\n",
       "      <th>0</th>\n",
       "      <td>PA</td>\n",
       "      <td>January</td>\n",
       "      <td>2019</td>\n",
       "      <td>4.0</td>\n",
       "    </tr>\n",
       "    <tr>\n",
       "      <th>1</th>\n",
       "      <td>PA</td>\n",
       "      <td>February</td>\n",
       "      <td>2019</td>\n",
       "      <td>3.9</td>\n",
       "    </tr>\n",
       "    <tr>\n",
       "      <th>2</th>\n",
       "      <td>PA</td>\n",
       "      <td>March</td>\n",
       "      <td>2019</td>\n",
       "      <td>3.9</td>\n",
       "    </tr>\n",
       "    <tr>\n",
       "      <th>3</th>\n",
       "      <td>PA</td>\n",
       "      <td>April</td>\n",
       "      <td>2019</td>\n",
       "      <td>3.8</td>\n",
       "    </tr>\n",
       "    <tr>\n",
       "      <th>4</th>\n",
       "      <td>PA</td>\n",
       "      <td>May</td>\n",
       "      <td>2019</td>\n",
       "      <td>3.8</td>\n",
       "    </tr>\n",
       "    <tr>\n",
       "      <th>...</th>\n",
       "      <td>...</td>\n",
       "      <td>...</td>\n",
       "      <td>...</td>\n",
       "      <td>...</td>\n",
       "    </tr>\n",
       "    <tr>\n",
       "      <th>81</th>\n",
       "      <td>NJ</td>\n",
       "      <td>January</td>\n",
       "      <td>2021</td>\n",
       "      <td>7.8</td>\n",
       "    </tr>\n",
       "    <tr>\n",
       "      <th>82</th>\n",
       "      <td>NJ</td>\n",
       "      <td>February</td>\n",
       "      <td>2021</td>\n",
       "      <td>7.8</td>\n",
       "    </tr>\n",
       "    <tr>\n",
       "      <th>83</th>\n",
       "      <td>NJ</td>\n",
       "      <td>March</td>\n",
       "      <td>2021</td>\n",
       "      <td>7.6</td>\n",
       "    </tr>\n",
       "    <tr>\n",
       "      <th>84</th>\n",
       "      <td>NJ</td>\n",
       "      <td>April</td>\n",
       "      <td>2021</td>\n",
       "      <td>7.5</td>\n",
       "    </tr>\n",
       "    <tr>\n",
       "      <th>85</th>\n",
       "      <td>NJ</td>\n",
       "      <td>May</td>\n",
       "      <td>2021</td>\n",
       "      <td>7.2</td>\n",
       "    </tr>\n",
       "  </tbody>\n",
       "</table>\n",
       "<p>86 rows × 4 columns</p>\n",
       "</div>"
      ],
      "text/plain": [
       "   State     Month  Year  Unemployment Rate\n",
       "0     PA   January  2019                4.0\n",
       "1     PA  February  2019                3.9\n",
       "2     PA     March  2019                3.9\n",
       "3     PA     April  2019                3.8\n",
       "4     PA       May  2019                3.8\n",
       "..   ...       ...   ...                ...\n",
       "81    NJ   January  2021                7.8\n",
       "82    NJ  February  2021                7.8\n",
       "83    NJ     March  2021                7.6\n",
       "84    NJ     April  2021                7.5\n",
       "85    NJ       May  2021                7.2\n",
       "\n",
       "[86 rows x 4 columns]"
      ]
     },
     "execution_count": 8,
     "metadata": {},
     "output_type": "execute_result"
    }
   ],
   "source": [
    "#Create a DataFrame for unemployment\n",
    "unemployment_df=(unemployment)\n",
    "unemployment_df"
   ]
  },
  {
   "cell_type": "code",
   "execution_count": 9,
   "metadata": {},
   "outputs": [
    {
     "data": {
      "text/plain": [
       "State\n",
       "NJ    6.793103\n",
       "NY    6.971429\n",
       "PA    7.203448\n",
       "Name: Unemployment Rate, dtype: float64"
      ]
     },
     "execution_count": 9,
     "metadata": {},
     "output_type": "execute_result"
    }
   ],
   "source": [
    "#Generate a summary statistics table of mean, median, variance,  standard deviation, and SEM of the rate for each state\n",
    "\n",
    "mean=unemployment_df.groupby(\"State\")[\"Unemployment Rate\"].mean()\n",
    "mean"
   ]
  },
  {
   "cell_type": "code",
   "execution_count": 10,
   "metadata": {},
   "outputs": [
    {
     "data": {
      "text/plain": [
       "Year\n",
       "2019    3.686111\n",
       "2020    9.894286\n",
       "2021    8.140000\n",
       "Name: Unemployment Rate, dtype: float64"
      ]
     },
     "execution_count": 10,
     "metadata": {},
     "output_type": "execute_result"
    }
   ],
   "source": [
    "mean=unemployment_df.groupby(\"Year\")[\"Unemployment Rate\"].mean()\n",
    "mean"
   ]
  },
  {
   "cell_type": "code",
   "execution_count": 11,
   "metadata": {},
   "outputs": [
    {
     "data": {
      "text/plain": [
       "State\n",
       "NJ    3.8\n",
       "NY    3.9\n",
       "PA    4.0\n",
       "Name: Unemployment Rate, dtype: float64"
      ]
     },
     "execution_count": 11,
     "metadata": {},
     "output_type": "execute_result"
    }
   ],
   "source": [
    "#Calculate the median\n",
    "median=unemployment_df.groupby(\"State\")[\"Unemployment Rate\"].median()\n",
    "median"
   ]
  },
  {
   "cell_type": "code",
   "execution_count": 12,
   "metadata": {},
   "outputs": [
    {
     "data": {
      "text/plain": [
       "State\n",
       "NJ    18.513522\n",
       "NY    18.166561\n",
       "PA    17.293202\n",
       "Name: Unemployment Rate, dtype: float64"
      ]
     },
     "execution_count": 12,
     "metadata": {},
     "output_type": "execute_result"
    }
   ],
   "source": [
    "#Calculate the variance\n",
    "variance=unemployment_df.groupby(\"State\")[\"Unemployment Rate\"].var()\n",
    "variance"
   ]
  },
  {
   "cell_type": "code",
   "execution_count": 13,
   "metadata": {},
   "outputs": [
    {
     "data": {
      "text/plain": [
       "State\n",
       "NJ    0.798998\n",
       "NY    0.805485\n",
       "PA    0.772216\n",
       "Name: Unemployment Rate, dtype: float64"
      ]
     },
     "execution_count": 13,
     "metadata": {},
     "output_type": "execute_result"
    }
   ],
   "source": [
    "#Calculate the SEM\n",
    "\n",
    "SEM=unemployment_df.groupby(\"State\")[\"Unemployment Rate\"].sem()\n",
    "SEM"
   ]
  },
  {
   "cell_type": "code",
   "execution_count": 14,
   "metadata": {},
   "outputs": [
    {
     "data": {
      "text/plain": [
       "State\n",
       "NJ    4.302734\n",
       "NY    4.262225\n",
       "PA    4.158510\n",
       "Name: Unemployment Rate, dtype: float64"
      ]
     },
     "execution_count": 14,
     "metadata": {},
     "output_type": "execute_result"
    }
   ],
   "source": [
    "#Calculate the standard deviation\n",
    "\n",
    "standard_dv=unemployment_df.groupby(\"State\")[\"Unemployment Rate\"].std()\n",
    "standard_dv"
   ]
  },
  {
   "cell_type": "code",
   "execution_count": 15,
   "metadata": {},
   "outputs": [
    {
     "data": {
      "text/html": [
       "<div>\n",
       "<style scoped>\n",
       "    .dataframe tbody tr th:only-of-type {\n",
       "        vertical-align: middle;\n",
       "    }\n",
       "\n",
       "    .dataframe tbody tr th {\n",
       "        vertical-align: top;\n",
       "    }\n",
       "\n",
       "    .dataframe thead th {\n",
       "        text-align: right;\n",
       "    }\n",
       "</style>\n",
       "<table border=\"1\" class=\"dataframe\">\n",
       "  <thead>\n",
       "    <tr style=\"text-align: right;\">\n",
       "      <th></th>\n",
       "      <th>Mean</th>\n",
       "      <th>Median</th>\n",
       "      <th>Variance</th>\n",
       "      <th>Standard Deviation</th>\n",
       "      <th>SEM</th>\n",
       "    </tr>\n",
       "  </thead>\n",
       "  <tbody>\n",
       "    <tr>\n",
       "      <th>2019</th>\n",
       "      <td>3.686111</td>\n",
       "      <td>NaN</td>\n",
       "      <td>NaN</td>\n",
       "      <td>NaN</td>\n",
       "      <td>NaN</td>\n",
       "    </tr>\n",
       "    <tr>\n",
       "      <th>2020</th>\n",
       "      <td>9.894286</td>\n",
       "      <td>NaN</td>\n",
       "      <td>NaN</td>\n",
       "      <td>NaN</td>\n",
       "      <td>NaN</td>\n",
       "    </tr>\n",
       "    <tr>\n",
       "      <th>2021</th>\n",
       "      <td>8.140000</td>\n",
       "      <td>NaN</td>\n",
       "      <td>NaN</td>\n",
       "      <td>NaN</td>\n",
       "      <td>NaN</td>\n",
       "    </tr>\n",
       "    <tr>\n",
       "      <th>NJ</th>\n",
       "      <td>NaN</td>\n",
       "      <td>3.8</td>\n",
       "      <td>18.513522</td>\n",
       "      <td>4.302734</td>\n",
       "      <td>0.798998</td>\n",
       "    </tr>\n",
       "    <tr>\n",
       "      <th>NY</th>\n",
       "      <td>NaN</td>\n",
       "      <td>3.9</td>\n",
       "      <td>18.166561</td>\n",
       "      <td>4.262225</td>\n",
       "      <td>0.805485</td>\n",
       "    </tr>\n",
       "    <tr>\n",
       "      <th>PA</th>\n",
       "      <td>NaN</td>\n",
       "      <td>4.0</td>\n",
       "      <td>17.293202</td>\n",
       "      <td>4.158510</td>\n",
       "      <td>0.772216</td>\n",
       "    </tr>\n",
       "  </tbody>\n",
       "</table>\n",
       "</div>"
      ],
      "text/plain": [
       "          Mean  Median   Variance  Standard Deviation       SEM\n",
       "2019  3.686111     NaN        NaN                 NaN       NaN\n",
       "2020  9.894286     NaN        NaN                 NaN       NaN\n",
       "2021  8.140000     NaN        NaN                 NaN       NaN\n",
       "NJ         NaN     3.8  18.513522            4.302734  0.798998\n",
       "NY         NaN     3.9  18.166561            4.262225  0.805485\n",
       "PA         NaN     4.0  17.293202            4.158510  0.772216"
      ]
     },
     "execution_count": 15,
     "metadata": {},
     "output_type": "execute_result"
    }
   ],
   "source": [
    "summary_df=pd.DataFrame({\"Mean\":mean, \"Median\":median, \"Variance\": variance, \"Standard Deviation\": standard_dv, \"SEM\":SEM})\n",
    "summary_df"
   ]
  },
  {
   "cell_type": "code",
   "execution_count": 16,
   "metadata": {},
   "outputs": [
    {
     "data": {
      "text/html": [
       "<div>\n",
       "<style scoped>\n",
       "    .dataframe tbody tr th:only-of-type {\n",
       "        vertical-align: middle;\n",
       "    }\n",
       "\n",
       "    .dataframe tbody tr th {\n",
       "        vertical-align: top;\n",
       "    }\n",
       "\n",
       "    .dataframe thead th {\n",
       "        text-align: right;\n",
       "    }\n",
       "</style>\n",
       "<table border=\"1\" class=\"dataframe\">\n",
       "  <thead>\n",
       "    <tr style=\"text-align: right;\">\n",
       "      <th></th>\n",
       "      <th>Month</th>\n",
       "      <th>Year</th>\n",
       "      <th>Unemployment Rate</th>\n",
       "    </tr>\n",
       "    <tr>\n",
       "      <th>State</th>\n",
       "      <th></th>\n",
       "      <th></th>\n",
       "      <th></th>\n",
       "    </tr>\n",
       "  </thead>\n",
       "  <tbody>\n",
       "    <tr>\n",
       "      <th>NJ</th>\n",
       "      <td>April</td>\n",
       "      <td>2020</td>\n",
       "      <td>16.5</td>\n",
       "    </tr>\n",
       "    <tr>\n",
       "      <th>NY</th>\n",
       "      <td>April</td>\n",
       "      <td>2020</td>\n",
       "      <td>16.2</td>\n",
       "    </tr>\n",
       "    <tr>\n",
       "      <th>PA</th>\n",
       "      <td>April</td>\n",
       "      <td>2020</td>\n",
       "      <td>16.2</td>\n",
       "    </tr>\n",
       "  </tbody>\n",
       "</table>\n",
       "</div>"
      ],
      "text/plain": [
       "       Month  Year  Unemployment Rate\n",
       "State                                \n",
       "NJ     April  2020               16.5\n",
       "NY     April  2020               16.2\n",
       "PA     April  2020               16.2"
      ]
     },
     "execution_count": 16,
     "metadata": {},
     "output_type": "execute_result"
    }
   ],
   "source": [
    "unemployment.sort_values(by = 'Unemployment Rate', ascending=False).groupby(['State']).first()"
   ]
  },
  {
   "cell_type": "code",
   "execution_count": 17,
   "metadata": {},
   "outputs": [
    {
     "data": {
      "text/html": [
       "<div>\n",
       "<style scoped>\n",
       "    .dataframe tbody tr th:only-of-type {\n",
       "        vertical-align: middle;\n",
       "    }\n",
       "\n",
       "    .dataframe tbody tr th {\n",
       "        vertical-align: top;\n",
       "    }\n",
       "\n",
       "    .dataframe thead th {\n",
       "        text-align: right;\n",
       "    }\n",
       "</style>\n",
       "<table border=\"1\" class=\"dataframe\">\n",
       "  <thead>\n",
       "    <tr style=\"text-align: right;\">\n",
       "      <th></th>\n",
       "      <th>State</th>\n",
       "      <th>Month</th>\n",
       "      <th>Year</th>\n",
       "      <th>Unemployment Rate</th>\n",
       "    </tr>\n",
       "  </thead>\n",
       "  <tbody>\n",
       "    <tr>\n",
       "      <th>72</th>\n",
       "      <td>NJ</td>\n",
       "      <td>April</td>\n",
       "      <td>2020</td>\n",
       "      <td>16.5</td>\n",
       "    </tr>\n",
       "  </tbody>\n",
       "</table>\n",
       "</div>"
      ],
      "text/plain": [
       "   State  Month  Year  Unemployment Rate\n",
       "72    NJ  April  2020               16.5"
      ]
     },
     "execution_count": 17,
     "metadata": {},
     "output_type": "execute_result"
    }
   ],
   "source": [
    "unemployment.loc[unemployment['State']=='NJ'].sort_values(by= 'Unemployment Rate', ascending=False).head(1)"
   ]
  },
  {
   "cell_type": "code",
   "execution_count": 18,
   "metadata": {},
   "outputs": [
    {
     "data": {
      "text/html": [
       "<div>\n",
       "<style scoped>\n",
       "    .dataframe tbody tr th:only-of-type {\n",
       "        vertical-align: middle;\n",
       "    }\n",
       "\n",
       "    .dataframe tbody tr th {\n",
       "        vertical-align: top;\n",
       "    }\n",
       "\n",
       "    .dataframe thead th {\n",
       "        text-align: right;\n",
       "    }\n",
       "</style>\n",
       "<table border=\"1\" class=\"dataframe\">\n",
       "  <thead>\n",
       "    <tr style=\"text-align: right;\">\n",
       "      <th></th>\n",
       "      <th>State</th>\n",
       "      <th>Month</th>\n",
       "      <th>Year</th>\n",
       "      <th>Unemployment Rate</th>\n",
       "    </tr>\n",
       "  </thead>\n",
       "  <tbody>\n",
       "    <tr>\n",
       "      <th>44</th>\n",
       "      <td>NY</td>\n",
       "      <td>April</td>\n",
       "      <td>2020</td>\n",
       "      <td>16.2</td>\n",
       "    </tr>\n",
       "  </tbody>\n",
       "</table>\n",
       "</div>"
      ],
      "text/plain": [
       "   State  Month  Year  Unemployment Rate\n",
       "44    NY  April  2020               16.2"
      ]
     },
     "execution_count": 18,
     "metadata": {},
     "output_type": "execute_result"
    }
   ],
   "source": [
    "unemployment.loc[unemployment['State']=='NY'].sort_values(by = 'Unemployment Rate', ascending=False).head(1)"
   ]
  },
  {
   "cell_type": "code",
   "execution_count": 19,
   "metadata": {},
   "outputs": [
    {
     "data": {
      "text/html": [
       "<div>\n",
       "<style scoped>\n",
       "    .dataframe tbody tr th:only-of-type {\n",
       "        vertical-align: middle;\n",
       "    }\n",
       "\n",
       "    .dataframe tbody tr th {\n",
       "        vertical-align: top;\n",
       "    }\n",
       "\n",
       "    .dataframe thead th {\n",
       "        text-align: right;\n",
       "    }\n",
       "</style>\n",
       "<table border=\"1\" class=\"dataframe\">\n",
       "  <thead>\n",
       "    <tr style=\"text-align: right;\">\n",
       "      <th></th>\n",
       "      <th>State</th>\n",
       "      <th>Month</th>\n",
       "      <th>Year</th>\n",
       "      <th>Unemployment Rate</th>\n",
       "    </tr>\n",
       "  </thead>\n",
       "  <tbody>\n",
       "    <tr>\n",
       "      <th>15</th>\n",
       "      <td>PA</td>\n",
       "      <td>April</td>\n",
       "      <td>2020</td>\n",
       "      <td>16.2</td>\n",
       "    </tr>\n",
       "  </tbody>\n",
       "</table>\n",
       "</div>"
      ],
      "text/plain": [
       "   State  Month  Year  Unemployment Rate\n",
       "15    PA  April  2020               16.2"
      ]
     },
     "execution_count": 19,
     "metadata": {},
     "output_type": "execute_result"
    }
   ],
   "source": [
    "unemployment.loc[unemployment['State']=='PA'].sort_values(by = 'Unemployment Rate', ascending=False).head(1)"
   ]
  },
  {
   "cell_type": "code",
   "execution_count": 20,
   "metadata": {
    "scrolled": false
   },
   "outputs": [
    {
     "data": {
      "text/plain": [
       "State\n",
       "NJ    6.793103\n",
       "NY    6.971429\n",
       "PA    7.203448\n",
       "Name: Unemployment Rate, dtype: float64"
      ]
     },
     "execution_count": 20,
     "metadata": {},
     "output_type": "execute_result"
    }
   ],
   "source": [
    "#Calculate the state with the highest unemployment rate\n",
    "\n",
    "#highest_rate = unemployment.groupby('State').max()\n",
    "\n",
    "unemployment.groupby('State').mean()['Unemployment Rate']\n"
   ]
  },
  {
   "cell_type": "code",
   "execution_count": 21,
   "metadata": {
    "scrolled": true
   },
   "outputs": [
    {
     "data": {
      "text/html": [
       "<div>\n",
       "<style scoped>\n",
       "    .dataframe tbody tr th:only-of-type {\n",
       "        vertical-align: middle;\n",
       "    }\n",
       "\n",
       "    .dataframe tbody tr th {\n",
       "        vertical-align: top;\n",
       "    }\n",
       "\n",
       "    .dataframe thead th {\n",
       "        text-align: right;\n",
       "    }\n",
       "</style>\n",
       "<table border=\"1\" class=\"dataframe\">\n",
       "  <thead>\n",
       "    <tr style=\"text-align: right;\">\n",
       "      <th></th>\n",
       "      <th>State</th>\n",
       "      <th>Month</th>\n",
       "      <th>Unemployment Rate</th>\n",
       "    </tr>\n",
       "    <tr>\n",
       "      <th>Year</th>\n",
       "      <th></th>\n",
       "      <th></th>\n",
       "      <th></th>\n",
       "    </tr>\n",
       "  </thead>\n",
       "  <tbody>\n",
       "    <tr>\n",
       "      <th>2019</th>\n",
       "      <td>PA</td>\n",
       "      <td>September</td>\n",
       "      <td>4.0</td>\n",
       "    </tr>\n",
       "    <tr>\n",
       "      <th>2020</th>\n",
       "      <td>PA</td>\n",
       "      <td>September</td>\n",
       "      <td>16.5</td>\n",
       "    </tr>\n",
       "    <tr>\n",
       "      <th>2021</th>\n",
       "      <td>PA</td>\n",
       "      <td>May</td>\n",
       "      <td>8.9</td>\n",
       "    </tr>\n",
       "  </tbody>\n",
       "</table>\n",
       "</div>"
      ],
      "text/plain": [
       "     State      Month  Unemployment Rate\n",
       "Year                                    \n",
       "2019    PA  September                4.0\n",
       "2020    PA  September               16.5\n",
       "2021    PA        May                8.9"
      ]
     },
     "execution_count": 21,
     "metadata": {},
     "output_type": "execute_result"
    }
   ],
   "source": [
    "#My variable =\\\n",
    "unemployment.groupby('Year').max()"
   ]
  },
  {
   "cell_type": "code",
   "execution_count": 22,
   "metadata": {},
   "outputs": [
    {
     "data": {
      "text/html": [
       "<div>\n",
       "<style scoped>\n",
       "    .dataframe tbody tr th:only-of-type {\n",
       "        vertical-align: middle;\n",
       "    }\n",
       "\n",
       "    .dataframe tbody tr th {\n",
       "        vertical-align: top;\n",
       "    }\n",
       "\n",
       "    .dataframe thead th {\n",
       "        text-align: right;\n",
       "    }\n",
       "</style>\n",
       "<table border=\"1\" class=\"dataframe\">\n",
       "  <thead>\n",
       "    <tr style=\"text-align: right;\">\n",
       "      <th></th>\n",
       "      <th>State</th>\n",
       "      <th>Month</th>\n",
       "      <th>Year</th>\n",
       "      <th>Unemployment Rate</th>\n",
       "    </tr>\n",
       "  </thead>\n",
       "  <tbody>\n",
       "    <tr>\n",
       "      <th>57</th>\n",
       "      <td>NJ</td>\n",
       "      <td>January</td>\n",
       "      <td>2019</td>\n",
       "      <td>3.6</td>\n",
       "    </tr>\n",
       "    <tr>\n",
       "      <th>58</th>\n",
       "      <td>NJ</td>\n",
       "      <td>February</td>\n",
       "      <td>2019</td>\n",
       "      <td>3.5</td>\n",
       "    </tr>\n",
       "    <tr>\n",
       "      <th>59</th>\n",
       "      <td>NJ</td>\n",
       "      <td>March</td>\n",
       "      <td>2019</td>\n",
       "      <td>3.4</td>\n",
       "    </tr>\n",
       "    <tr>\n",
       "      <th>60</th>\n",
       "      <td>NJ</td>\n",
       "      <td>April</td>\n",
       "      <td>2019</td>\n",
       "      <td>3.3</td>\n",
       "    </tr>\n",
       "    <tr>\n",
       "      <th>61</th>\n",
       "      <td>NJ</td>\n",
       "      <td>May</td>\n",
       "      <td>2019</td>\n",
       "      <td>3.2</td>\n",
       "    </tr>\n",
       "    <tr>\n",
       "      <th>62</th>\n",
       "      <td>NJ</td>\n",
       "      <td>June</td>\n",
       "      <td>2019</td>\n",
       "      <td>3.2</td>\n",
       "    </tr>\n",
       "    <tr>\n",
       "      <th>63</th>\n",
       "      <td>NJ</td>\n",
       "      <td>July</td>\n",
       "      <td>2019</td>\n",
       "      <td>3.3</td>\n",
       "    </tr>\n",
       "    <tr>\n",
       "      <th>64</th>\n",
       "      <td>NJ</td>\n",
       "      <td>August</td>\n",
       "      <td>2019</td>\n",
       "      <td>3.4</td>\n",
       "    </tr>\n",
       "    <tr>\n",
       "      <th>65</th>\n",
       "      <td>NJ</td>\n",
       "      <td>September</td>\n",
       "      <td>2019</td>\n",
       "      <td>3.5</td>\n",
       "    </tr>\n",
       "    <tr>\n",
       "      <th>66</th>\n",
       "      <td>NJ</td>\n",
       "      <td>October</td>\n",
       "      <td>2019</td>\n",
       "      <td>3.5</td>\n",
       "    </tr>\n",
       "    <tr>\n",
       "      <th>67</th>\n",
       "      <td>NJ</td>\n",
       "      <td>November</td>\n",
       "      <td>2019</td>\n",
       "      <td>3.6</td>\n",
       "    </tr>\n",
       "    <tr>\n",
       "      <th>68</th>\n",
       "      <td>NJ</td>\n",
       "      <td>December</td>\n",
       "      <td>2019</td>\n",
       "      <td>3.6</td>\n",
       "    </tr>\n",
       "    <tr>\n",
       "      <th>69</th>\n",
       "      <td>NJ</td>\n",
       "      <td>January</td>\n",
       "      <td>2020</td>\n",
       "      <td>3.7</td>\n",
       "    </tr>\n",
       "    <tr>\n",
       "      <th>70</th>\n",
       "      <td>NJ</td>\n",
       "      <td>February</td>\n",
       "      <td>2020</td>\n",
       "      <td>3.7</td>\n",
       "    </tr>\n",
       "    <tr>\n",
       "      <th>71</th>\n",
       "      <td>NJ</td>\n",
       "      <td>March</td>\n",
       "      <td>2020</td>\n",
       "      <td>3.8</td>\n",
       "    </tr>\n",
       "    <tr>\n",
       "      <th>72</th>\n",
       "      <td>NJ</td>\n",
       "      <td>April</td>\n",
       "      <td>2020</td>\n",
       "      <td>16.5</td>\n",
       "    </tr>\n",
       "    <tr>\n",
       "      <th>73</th>\n",
       "      <td>NJ</td>\n",
       "      <td>May</td>\n",
       "      <td>2020</td>\n",
       "      <td>16.5</td>\n",
       "    </tr>\n",
       "    <tr>\n",
       "      <th>74</th>\n",
       "      <td>NJ</td>\n",
       "      <td>June</td>\n",
       "      <td>2020</td>\n",
       "      <td>16.3</td>\n",
       "    </tr>\n",
       "    <tr>\n",
       "      <th>75</th>\n",
       "      <td>NJ</td>\n",
       "      <td>July</td>\n",
       "      <td>2020</td>\n",
       "      <td>13.1</td>\n",
       "    </tr>\n",
       "    <tr>\n",
       "      <th>76</th>\n",
       "      <td>NJ</td>\n",
       "      <td>August</td>\n",
       "      <td>2020</td>\n",
       "      <td>11.0</td>\n",
       "    </tr>\n",
       "    <tr>\n",
       "      <th>77</th>\n",
       "      <td>NJ</td>\n",
       "      <td>September</td>\n",
       "      <td>2020</td>\n",
       "      <td>7.8</td>\n",
       "    </tr>\n",
       "    <tr>\n",
       "      <th>78</th>\n",
       "      <td>NJ</td>\n",
       "      <td>October</td>\n",
       "      <td>2020</td>\n",
       "      <td>7.7</td>\n",
       "    </tr>\n",
       "    <tr>\n",
       "      <th>79</th>\n",
       "      <td>NJ</td>\n",
       "      <td>November</td>\n",
       "      <td>2020</td>\n",
       "      <td>10.2</td>\n",
       "    </tr>\n",
       "    <tr>\n",
       "      <th>80</th>\n",
       "      <td>NJ</td>\n",
       "      <td>December</td>\n",
       "      <td>2020</td>\n",
       "      <td>7.7</td>\n",
       "    </tr>\n",
       "    <tr>\n",
       "      <th>81</th>\n",
       "      <td>NJ</td>\n",
       "      <td>January</td>\n",
       "      <td>2021</td>\n",
       "      <td>7.8</td>\n",
       "    </tr>\n",
       "    <tr>\n",
       "      <th>82</th>\n",
       "      <td>NJ</td>\n",
       "      <td>February</td>\n",
       "      <td>2021</td>\n",
       "      <td>7.8</td>\n",
       "    </tr>\n",
       "    <tr>\n",
       "      <th>83</th>\n",
       "      <td>NJ</td>\n",
       "      <td>March</td>\n",
       "      <td>2021</td>\n",
       "      <td>7.6</td>\n",
       "    </tr>\n",
       "    <tr>\n",
       "      <th>84</th>\n",
       "      <td>NJ</td>\n",
       "      <td>April</td>\n",
       "      <td>2021</td>\n",
       "      <td>7.5</td>\n",
       "    </tr>\n",
       "    <tr>\n",
       "      <th>85</th>\n",
       "      <td>NJ</td>\n",
       "      <td>May</td>\n",
       "      <td>2021</td>\n",
       "      <td>7.2</td>\n",
       "    </tr>\n",
       "  </tbody>\n",
       "</table>\n",
       "</div>"
      ],
      "text/plain": [
       "   State      Month  Year  Unemployment Rate\n",
       "57    NJ    January  2019                3.6\n",
       "58    NJ   February  2019                3.5\n",
       "59    NJ      March  2019                3.4\n",
       "60    NJ      April  2019                3.3\n",
       "61    NJ        May  2019                3.2\n",
       "62    NJ       June  2019                3.2\n",
       "63    NJ       July  2019                3.3\n",
       "64    NJ     August  2019                3.4\n",
       "65    NJ  September  2019                3.5\n",
       "66    NJ    October  2019                3.5\n",
       "67    NJ   November  2019                3.6\n",
       "68    NJ   December  2019                3.6\n",
       "69    NJ    January  2020                3.7\n",
       "70    NJ   February  2020                3.7\n",
       "71    NJ      March  2020                3.8\n",
       "72    NJ      April  2020               16.5\n",
       "73    NJ        May  2020               16.5\n",
       "74    NJ       June  2020               16.3\n",
       "75    NJ       July  2020               13.1\n",
       "76    NJ     August  2020               11.0\n",
       "77    NJ  September  2020                7.8\n",
       "78    NJ    October  2020                7.7\n",
       "79    NJ   November  2020               10.2\n",
       "80    NJ   December  2020                7.7\n",
       "81    NJ    January  2021                7.8\n",
       "82    NJ   February  2021                7.8\n",
       "83    NJ      March  2021                7.6\n",
       "84    NJ      April  2021                7.5\n",
       "85    NJ        May  2021                7.2"
      ]
     },
     "execution_count": 22,
     "metadata": {},
     "output_type": "execute_result"
    }
   ],
   "source": [
    "c=unemployment.loc[(unemployment['State']=='NJ')]\n",
    "\n",
    "c"
   ]
  },
  {
   "cell_type": "code",
   "execution_count": 23,
   "metadata": {},
   "outputs": [
    {
     "data": {
      "text/plain": [
       "3.4250000000000003"
      ]
     },
     "execution_count": 23,
     "metadata": {},
     "output_type": "execute_result"
    }
   ],
   "source": [
    "#Get the mean of NJ 2019 build the df\n",
    "\n",
    "nj_2019=[3.6,\n",
    "3.5,\n",
    "3.4,\n",
    "3.3,\n",
    "3.2,\n",
    "3.2,\n",
    "3.3,\n",
    "3.4,\n",
    "3.5,\n",
    "3.5,\n",
    "3.6,\n",
    "3.6\n",
    "]\n",
    "nj_2019= np.mean(nj_2019)\n",
    "nj_2019"
   ]
  },
  {
   "cell_type": "code",
   "execution_count": 24,
   "metadata": {},
   "outputs": [
    {
     "data": {
      "text/plain": [
       "9.833333333333334"
      ]
     },
     "execution_count": 24,
     "metadata": {},
     "output_type": "execute_result"
    }
   ],
   "source": [
    "#Get the mean of NJ 2020\n",
    "\n",
    "nj_2020=[3.7,\n",
    "3.7,\n",
    "3.8,\n",
    "16.5,\n",
    "16.5,\n",
    "16.3,\n",
    "13.1,\n",
    "11.0,\n",
    "7.8,\n",
    "7.7,\n",
    "10.2,\n",
    "7.7\n",
    "]\n",
    "nj_2020=np.mean(nj_2020)\n",
    "nj_2020"
   ]
  },
  {
   "cell_type": "code",
   "execution_count": 25,
   "metadata": {},
   "outputs": [
    {
     "data": {
      "text/plain": [
       "7.58"
      ]
     },
     "execution_count": 25,
     "metadata": {},
     "output_type": "execute_result"
    }
   ],
   "source": [
    "#Get the mean of NJ 2021\n",
    "\n",
    "nj_2021=[7.8,\n",
    "7.8,\n",
    "7.6,\n",
    "7.5,\n",
    "7.2]\n",
    "nj_2021=np.mean(nj_2021)\n",
    "nj_2021"
   ]
  },
  {
   "cell_type": "code",
   "execution_count": 48,
   "metadata": {},
   "outputs": [
    {
     "data": {
      "image/png": "[encoded data removed]",
      "text/plain": [
       "<Figure size 432x288 with 1 Axes>"
      ]
     },
     "metadata": {
      "needs_background": "light"
     },
     "output_type": "display_data"
    }
   ],
   "source": [
    "nj_df=pd.DataFrame({'NJ_2019': nj_2019, 'NJ_2020':nj_2020, 'NJ_2021':nj_2021}, index = [\"State\"]) \n",
    "nj_df\n",
    "\n",
    "ax = nj_df.plot.bar(rot=0)"
   ]
  },
  {
   "cell_type": "code",
   "execution_count": 27,
   "metadata": {},
   "outputs": [
    {
     "data": {
      "text/plain": [
       "6.316666666666666"
      ]
     },
     "execution_count": 27,
     "metadata": {},
     "output_type": "execute_result"
    }
   ],
   "source": [
    "#Find the mean of NY 2019\n",
    "ny_2019=[34,\n",
    "3.9,\n",
    "3.9,\n",
    "3.8,\n",
    "3.8,\n",
    "3.8,\n",
    "3.8,\n",
    "3.8,\n",
    "3.8,\n",
    "3.8,\n",
    "3.7,\n",
    "3.7       \n",
    "\n",
    "]\n",
    "ny_2019= np.mean(ny_2019)\n",
    "ny_2019\n"
   ]
  },
  {
   "cell_type": "code",
   "execution_count": 46,
   "metadata": {},
   "outputs": [
    {
     "data": {
      "text/html": [
       "<div>\n",
       "<style scoped>\n",
       "    .dataframe tbody tr th:only-of-type {\n",
       "        vertical-align: middle;\n",
       "    }\n",
       "\n",
       "    .dataframe tbody tr th {\n",
       "        vertical-align: top;\n",
       "    }\n",
       "\n",
       "    .dataframe thead th {\n",
       "        text-align: right;\n",
       "    }\n",
       "</style>\n",
       "<table border=\"1\" class=\"dataframe\">\n",
       "  <thead>\n",
       "    <tr style=\"text-align: right;\">\n",
       "      <th></th>\n",
       "      <th>NJ_2019</th>\n",
       "      <th>PA_2019</th>\n",
       "      <th>NY_2019</th>\n",
       "      <th>NJ_2020</th>\n",
       "      <th>NY_2020</th>\n",
       "      <th>PA_2020</th>\n",
       "      <th>NJ_2021</th>\n",
       "      <th>PA_2021</th>\n",
       "      <th>NY_2021</th>\n",
       "    </tr>\n",
       "  </thead>\n",
       "  <tbody>\n",
       "    <tr>\n",
       "      <th>Unemployment Rate</th>\n",
       "      <td>3.425</td>\n",
       "      <td>3.8</td>\n",
       "      <td>6.316667</td>\n",
       "      <td>9.833333</td>\n",
       "      <td>9.754545</td>\n",
       "      <td>10.209091</td>\n",
       "      <td>7.58</td>\n",
       "      <td>8.42</td>\n",
       "      <td>8.42</td>\n",
       "    </tr>\n",
       "  </tbody>\n",
       "</table>\n",
       "</div>"
      ],
      "text/plain": [
       "                   NJ_2019  PA_2019   NY_2019   NJ_2020   NY_2020    PA_2020  \\\n",
       "Unemployment Rate    3.425      3.8  6.316667  9.833333  9.754545  10.209091   \n",
       "\n",
       "                   NJ_2021  PA_2021  NY_2021  \n",
       "Unemployment Rate     7.58     8.42     8.42  "
      ]
     },
     "execution_count": 46,
     "metadata": {},
     "output_type": "execute_result"
    }
   ],
   "source": [
    "te_df=pd.DataFrame({\"NJ_2019\":nj_2019, \"PA_2019\":pa_2019, \"NY_2019\":ny_2019, \"NJ_2020\":nj_2020, \"NY_2020\":ny_2020, \"PA_2020\":pa_2020,\n",
    "                    \"NJ_2021\":nj_2021, \"PA_2021\":pa_2021, \"NY_2021\":ny_2021}, index=[\"Unemployment Rate\"])\n",
    "te_df"
   ]
  },
  {
   "cell_type": "code",
   "execution_count": 51,
   "metadata": {},
   "outputs": [
    {
     "data": {
      "text/html": [
       "<div>\n",
       "<style scoped>\n",
       "    .dataframe tbody tr th:only-of-type {\n",
       "        vertical-align: middle;\n",
       "    }\n",
       "\n",
       "    .dataframe tbody tr th {\n",
       "        vertical-align: top;\n",
       "    }\n",
       "\n",
       "    .dataframe thead th {\n",
       "        text-align: right;\n",
       "    }\n",
       "</style>\n",
       "<table border=\"1\" class=\"dataframe\">\n",
       "  <thead>\n",
       "    <tr style=\"text-align: right;\">\n",
       "      <th></th>\n",
       "      <th>State</th>\n",
       "    </tr>\n",
       "    <tr>\n",
       "      <th>Unemployment Rates</th>\n",
       "      <th></th>\n",
       "    </tr>\n",
       "  </thead>\n",
       "  <tbody>\n",
       "    <tr>\n",
       "      <th>NJ_2019</th>\n",
       "      <td>3.425000</td>\n",
       "    </tr>\n",
       "    <tr>\n",
       "      <th>PA_2019</th>\n",
       "      <td>3.800000</td>\n",
       "    </tr>\n",
       "    <tr>\n",
       "      <th>NY_2019</th>\n",
       "      <td>6.316667</td>\n",
       "    </tr>\n",
       "    <tr>\n",
       "      <th>NJ_2020</th>\n",
       "      <td>9.833333</td>\n",
       "    </tr>\n",
       "    <tr>\n",
       "      <th>NY_2020</th>\n",
       "      <td>9.754545</td>\n",
       "    </tr>\n",
       "    <tr>\n",
       "      <th>PA_2020</th>\n",
       "      <td>10.209091</td>\n",
       "    </tr>\n",
       "    <tr>\n",
       "      <th>NJ_2021</th>\n",
       "      <td>7.580000</td>\n",
       "    </tr>\n",
       "    <tr>\n",
       "      <th>NY_2021</th>\n",
       "      <td>8.420000</td>\n",
       "    </tr>\n",
       "    <tr>\n",
       "      <th>PA_2021</th>\n",
       "      <td>8.420000</td>\n",
       "    </tr>\n",
       "  </tbody>\n",
       "</table>\n",
       "</div>"
      ],
      "text/plain": [
       "                        State\n",
       "Unemployment Rates           \n",
       "NJ_2019              3.425000\n",
       "PA_2019              3.800000\n",
       "NY_2019              6.316667\n",
       "NJ_2020              9.833333\n",
       "NY_2020              9.754545\n",
       "PA_2020             10.209091\n",
       "NJ_2021              7.580000\n",
       "NY_2021              8.420000\n",
       "PA_2021              8.420000"
      ]
     },
     "execution_count": 51,
     "metadata": {},
     "output_type": "execute_result"
    }
   ],
   "source": [
    "state_df_transposed=state_df.T\n",
    "state_df_transposed.index.name=\"Unemployment Rates\"\n",
    "state_df_transposed"
   ]
  },
  {
   "cell_type": "code",
   "execution_count": 52,
   "metadata": {},
   "outputs": [
    {
     "data": {
      "image/png": "[encoded data removed]",
      "text/plain": [
       "<Figure size 432x288 with 1 Axes>"
      ]
     },
     "metadata": {
      "needs_background": "light"
     },
     "output_type": "display_data"
    }
   ],
   "source": [
    "state_df_transposed.plot(kind=\"bar\")\n",
    "plt.title(\"Average Unemployment Rates for NJ, NY, PA\")\n",
    "plt.ylabel(\"Unemployment Rates\")\n",
    "plt.xlabel(\"State by Year\")\n",
    "plt.show()"
   ]
  },
  {
   "cell_type": "code",
   "execution_count": 28,
   "metadata": {},
   "outputs": [
    {
     "data": {
      "text/plain": [
       "9.754545454545454"
      ]
     },
     "execution_count": 28,
     "metadata": {},
     "output_type": "execute_result"
    }
   ],
   "source": [
    "#Find the mean of NY 2020\n",
    "ny_2020=[3.8,\n",
    "3.9,\n",
    "3.9,\n",
    "16.2,\n",
    "15.7,\n",
    "15.0,\n",
    "14.7,\n",
    "11.7,\n",
    "10.0,\n",
    "8.7,\n",
    "3.7\n",
    "]\n",
    "ny_2020=np.mean(ny_2020)\n",
    "ny_2020"
   ]
  },
  {
   "cell_type": "code",
   "execution_count": 29,
   "metadata": {},
   "outputs": [
    {
     "data": {
      "text/plain": [
       "8.419999999999998"
      ]
     },
     "execution_count": 29,
     "metadata": {},
     "output_type": "execute_result"
    }
   ],
   "source": [
    "#Find the mean of NY 2021\n",
    "ny_2021=[8.8,\n",
    "8.9,\n",
    "8.4,\n",
    "8.2,\n",
    "7.8\n",
    "]\n",
    "ny_2021=np.mean(ny_2021)\n",
    "ny_2021"
   ]
  },
  {
   "cell_type": "code",
   "execution_count": 30,
   "metadata": {},
   "outputs": [
    {
     "ename": "NameError",
     "evalue": "name 'k' is not defined",
     "output_type": "error",
     "traceback": [
      "\u001b[1;31m---------------------------------------------------------------------------\u001b[0m",
      "\u001b[1;31mNameError\u001b[0m                                 Traceback (most recent call last)",
      "\u001b[1;32m<ipython-input-30-141b3ea3f03f>\u001b[0m in \u001b[0;36m<module>\u001b[1;34m\u001b[0m\n\u001b[1;32m----> 1\u001b[1;33m \u001b[0mk\u001b[0m\u001b[1;33m\u001b[0m\u001b[1;33m\u001b[0m\u001b[0m\n\u001b[0m",
      "\u001b[1;31mNameError\u001b[0m: name 'k' is not defined"
     ]
    }
   ],
   "source": [
    "k"
   ]
  },
  {
   "cell_type": "code",
   "execution_count": 31,
   "metadata": {},
   "outputs": [
    {
     "data": {
      "text/plain": [
       "3.8000000000000003"
      ]
     },
     "execution_count": 31,
     "metadata": {},
     "output_type": "execute_result"
    }
   ],
   "source": [
    "#Find the mean of PA 2019\n",
    "pa_2019=[3.9,\n",
    "3.9,\n",
    "3.8,\n",
    "3.8,\n",
    "3.8,\n",
    "3.8,\n",
    "3.8,\n",
    "3.8,\n",
    "3.8,\n",
    "3.7,\n",
    "3.7\n",
    "]\n",
    "pa_2019=np.mean(pa_2019)\n",
    "pa_2019"
   ]
  },
  {
   "cell_type": "code",
   "execution_count": 32,
   "metadata": {},
   "outputs": [
    {
     "data": {
      "text/plain": [
       "10.209090909090909"
      ]
     },
     "execution_count": 32,
     "metadata": {},
     "output_type": "execute_result"
    }
   ],
   "source": [
    "#Find the mean of PA 2020\n",
    "\n",
    "pa_2020=[3.8,\n",
    "3.9,\n",
    "3.9,\n",
    "16.2,\n",
    "15.7,\n",
    "15.0,\n",
    "14.7,\n",
    "11.7,\n",
    "10.0,\n",
    "8.7,\n",
    "8.7\n",
    "]\n",
    "pa_2020=np.mean(pa_2020)\n",
    "pa_2020"
   ]
  },
  {
   "cell_type": "code",
   "execution_count": 33,
   "metadata": {},
   "outputs": [
    {
     "data": {
      "text/plain": [
       "8.419999999999998"
      ]
     },
     "execution_count": 33,
     "metadata": {},
     "output_type": "execute_result"
    }
   ],
   "source": [
    "#Find the mean of PA 2021\n",
    "\n",
    "pa_2021=[8.8,\n",
    "8.9,\n",
    "8.4,\n",
    "8.2,\n",
    "7.8,\n",
    "\n",
    "]\n",
    "pa_2021=np.mean(pa_2021)\n",
    "pa_2021"
   ]
  },
  {
   "cell_type": "code",
   "execution_count": 34,
   "metadata": {
    "scrolled": true
   },
   "outputs": [
    {
     "data": {
      "image/png": "[encoded data removed]",
      "text/plain": [
       "<Figure size 432x288 with 1 Axes>"
      ]
     },
     "metadata": {
      "needs_background": "light"
     },
     "output_type": "display_data"
    }
   ],
   "source": [
    "#Plot PA data\n",
    "\n",
    "pa_df=pd.DataFrame({'PA_2019': pa_2019, 'PA_2020':pa_2020, 'PA_2021':pa_2021}, index = [0]) \n",
    "pa_df\n",
    "\n",
    "ax = pa_df.plot.bar(rot=0)"
   ]
  },
  {
   "cell_type": "code",
   "execution_count": 53,
   "metadata": {},
   "outputs": [
    {
     "data": {
      "text/html": [
       "<div>\n",
       "<style scoped>\n",
       "    .dataframe tbody tr th:only-of-type {\n",
       "        vertical-align: middle;\n",
       "    }\n",
       "\n",
       "    .dataframe tbody tr th {\n",
       "        vertical-align: top;\n",
       "    }\n",
       "\n",
       "    .dataframe thead th {\n",
       "        text-align: right;\n",
       "    }\n",
       "</style>\n",
       "<table border=\"1\" class=\"dataframe\">\n",
       "  <thead>\n",
       "    <tr style=\"text-align: right;\">\n",
       "      <th></th>\n",
       "      <th>NJ_2019</th>\n",
       "      <th>PA_2019</th>\n",
       "      <th>NY_2019</th>\n",
       "      <th>NJ_2020</th>\n",
       "      <th>NY_2020</th>\n",
       "      <th>PA_2020</th>\n",
       "      <th>NJ_2021</th>\n",
       "      <th>NY_2021</th>\n",
       "      <th>PA_2021</th>\n",
       "    </tr>\n",
       "  </thead>\n",
       "  <tbody>\n",
       "    <tr>\n",
       "      <th>State</th>\n",
       "      <td>3.425</td>\n",
       "      <td>3.8</td>\n",
       "      <td>6.316667</td>\n",
       "      <td>9.833333</td>\n",
       "      <td>9.754545</td>\n",
       "      <td>10.209091</td>\n",
       "      <td>7.58</td>\n",
       "      <td>8.42</td>\n",
       "      <td>8.42</td>\n",
       "    </tr>\n",
       "  </tbody>\n",
       "</table>\n",
       "</div>"
      ],
      "text/plain": [
       "       NJ_2019  PA_2019   NY_2019   NJ_2020   NY_2020    PA_2020  NJ_2021  \\\n",
       "State    3.425      3.8  6.316667  9.833333  9.754545  10.209091     7.58   \n",
       "\n",
       "       NY_2021  PA_2021  \n",
       "State     8.42     8.42  "
      ]
     },
     "execution_count": 53,
     "metadata": {},
     "output_type": "execute_result"
    }
   ],
   "source": [
    "state_df=pd.DataFrame({'NJ_2019':nj_2019, 'PA_2019':pa_2019, 'NY_2019':ny_2019, 'NJ_2020': nj_2020, 'NY_2020': ny_2020, \n",
    "                       'PA_2020': pa_2020, 'NJ_2021':nj_2021, 'NY_2021':ny_2021, 'PA_2021':pa_2021 }, index = [\"State\"])\n",
    "state_df"
   ]
  },
  {
   "cell_type": "code",
   "execution_count": 54,
   "metadata": {
    "scrolled": true
   },
   "outputs": [
    {
     "data": {
      "image/png": "[encoded data removed]",
      "text/plain": [
       "<Figure size 720x576 with 1 Axes>"
      ]
     },
     "metadata": {
      "needs_background": "light"
     },
     "output_type": "display_data"
    }
   ],
   "source": [
    "state_df=pd.DataFrame({'NJ_2019':nj_2019, 'PA_2019':pa_2019, 'NY_2019':ny_2019, 'NJ_2020': nj_2020, 'NY_2020': ny_2020, \n",
    "                       'PA_2020': pa_2020, 'NJ_2021':nj_2021, 'NY_2021':ny_2021, 'PA_2021':pa_2021 }, index = [\"State\"])\n",
    "state_df\n",
    "\n",
    "state_df.head(10).plot(kind='bar', figsize=(10,8))\n",
    "plt.title(\"Average Unemployment Rates for NJ, NY, PA\")\n",
    "plt.ylabel(\"Unemployment Rates\")\n",
    "plt.xlabel(\"Months\")\n",
    "#plt.x_axis[\"Unemployment Rates\"]\n",
    "plt.xticks()\n",
    "plt.show()\n",
    "\n",
    "#ax=state_df.plot.bar(rot=0)\n",
    "\n",
    "# Create bars and choose color\n",
    "#state_df['NJ_2019', 'PA_2019', 'NY_2019','NJ_2020', 'PA_2020', 'NJ_2021', 'NY_2021', 'PA_2021'].plot(kind=\"barh\")\n",
    "#plt.title(\"Average Unemployment Rates for NJ, NY, PA\")\n",
    "#plt.ylabel(\"States\")\n",
    "#plt.xlabel(\"Unemployment Rates\")\n",
    " "
   ]
  },
  {
   "cell_type": "code",
   "execution_count": 38,
   "metadata": {
    "scrolled": false
   },
   "outputs": [
    {
     "data": {
      "text/plain": [
       "Text(0.5, 0, 'Unemployment Rate %')"
      ]
     },
     "execution_count": 38,
     "metadata": {},
     "output_type": "execute_result"
    },
    {
     "data": {
      "image/png": "[encoded data removed]",
      "text/plain": [
       "<Figure size 432x288 with 1 Axes>"
      ]
     },
     "metadata": {
      "needs_background": "light"
     },
     "output_type": "display_data"
    }
   ],
   "source": [
    "new_df = \\\n",
    "unemployment.sort_values(by = 'Unemployment Rate', ascending=False).groupby(['State']).first()\n",
    "new_df['Unemployment Rate'].plot(kind=\"barh\")\n",
    "plt.title(\"Max Unemployment Rate by State\")\n",
    "plt.ylabel(\"States in Study\")\n",
    "plt.xlabel(\"Unemployment Rate %\")"
   ]
  },
  {
   "cell_type": "code",
   "execution_count": 55,
   "metadata": {},
   "outputs": [
    {
     "ename": "NameError",
     "evalue": "name 'NJ' is not defined",
     "output_type": "error",
     "traceback": [
      "\u001b[1;31m---------------------------------------------------------------------------\u001b[0m",
      "\u001b[1;31mNameError\u001b[0m                                 Traceback (most recent call last)",
      "\u001b[1;32m<ipython-input-55-b3f46ee7fab6>\u001b[0m in \u001b[0;36m<module>\u001b[1;34m\u001b[0m\n\u001b[0;32m      1\u001b[0m \u001b[0mNJ\u001b[0m\u001b[1;33m[\u001b[0m\u001b[1;34m\"Month\"\u001b[0m\u001b[1;33m]\u001b[0m \u001b[1;33m=\u001b[0m\u001b[0;31m\\\u001b[0m\u001b[1;33m\u001b[0m\u001b[1;33m\u001b[0m\u001b[0m\n\u001b[1;32m----> 2\u001b[1;33m \u001b[0mpd\u001b[0m\u001b[1;33m.\u001b[0m\u001b[0mto_datetime\u001b[0m\u001b[1;33m(\u001b[0m\u001b[0mNJ\u001b[0m\u001b[1;33m.\u001b[0m\u001b[0mMonth\u001b[0m\u001b[1;33m,\u001b[0m \u001b[0mformat\u001b[0m\u001b[1;33m=\u001b[0m\u001b[1;34m'%B'\u001b[0m\u001b[1;33m)\u001b[0m\u001b[1;33m.\u001b[0m\u001b[0mdt\u001b[0m\u001b[1;33m.\u001b[0m\u001b[0mmonth\u001b[0m\u001b[1;33m.\u001b[0m\u001b[0mmap\u001b[0m\u001b[1;33m(\u001b[0m\u001b[1;34m\"{:02}\"\u001b[0m\u001b[1;33m.\u001b[0m\u001b[0mformat\u001b[0m\u001b[1;33m)\u001b[0m\u001b[1;33m\u001b[0m\u001b[1;33m\u001b[0m\u001b[0m\n\u001b[0m",
      "\u001b[1;31mNameError\u001b[0m: name 'NJ' is not defined"
     ]
    }
   ],
   "source": [
    "NJ[\"Month\"] =\\\n",
    "pd.to_datetime(NJ.Month, format='%B').dt.month.map(\"{:02}\".format)"
   ]
  },
  {
   "cell_type": "code",
   "execution_count": 56,
   "metadata": {},
   "outputs": [
    {
     "ename": "NameError",
     "evalue": "name 'NJ' is not defined",
     "output_type": "error",
     "traceback": [
      "\u001b[1;31m---------------------------------------------------------------------------\u001b[0m",
      "\u001b[1;31mNameError\u001b[0m                                 Traceback (most recent call last)",
      "\u001b[1;32m<ipython-input-56-d6047972b258>\u001b[0m in \u001b[0;36m<module>\u001b[1;34m\u001b[0m\n\u001b[1;32m----> 1\u001b[1;33m \u001b[0mNJ\u001b[0m\u001b[1;33m[\u001b[0m\u001b[1;34m\"Combined Date\"\u001b[0m\u001b[1;33m]\u001b[0m\u001b[1;33m=\u001b[0m\u001b[0mNJ\u001b[0m\u001b[1;33m[\u001b[0m\u001b[1;34m\"Month\"\u001b[0m\u001b[1;33m]\u001b[0m\u001b[1;33m.\u001b[0m\u001b[0mmap\u001b[0m\u001b[1;33m(\u001b[0m\u001b[0mstr\u001b[0m\u001b[1;33m)\u001b[0m \u001b[1;33m+\u001b[0m \u001b[1;34m'/'\u001b[0m\u001b[1;33m+\u001b[0m \u001b[0mNJ\u001b[0m\u001b[1;33m[\u001b[0m\u001b[1;34m\"Year\"\u001b[0m\u001b[1;33m]\u001b[0m\u001b[1;33m.\u001b[0m\u001b[0mmap\u001b[0m\u001b[1;33m(\u001b[0m\u001b[0mstr\u001b[0m\u001b[1;33m)\u001b[0m\u001b[1;33m\u001b[0m\u001b[1;33m\u001b[0m\u001b[0m\n\u001b[0m",
      "\u001b[1;31mNameError\u001b[0m: name 'NJ' is not defined"
     ]
    }
   ],
   "source": [
    "NJ[\"Combined Date\"]=NJ[\"Month\"].map(str) + '/'+ NJ[\"Year\"].map(str)"
   ]
  },
  {
   "cell_type": "code",
   "execution_count": 57,
   "metadata": {},
   "outputs": [
    {
     "ename": "NameError",
     "evalue": "name 'NJ' is not defined",
     "output_type": "error",
     "traceback": [
      "\u001b[1;31m---------------------------------------------------------------------------\u001b[0m",
      "\u001b[1;31mNameError\u001b[0m                                 Traceback (most recent call last)",
      "\u001b[1;32m<ipython-input-57-c9d2fa1a86c8>\u001b[0m in \u001b[0;36m<module>\u001b[1;34m\u001b[0m\n\u001b[1;32m----> 1\u001b[1;33m \u001b[0mNJ\u001b[0m\u001b[1;33m.\u001b[0m\u001b[0mplot\u001b[0m\u001b[1;33m.\u001b[0m\u001b[0mline\u001b[0m\u001b[1;33m(\u001b[0m\u001b[0mx\u001b[0m \u001b[1;33m=\u001b[0m\u001b[1;34m'Combined Date'\u001b[0m\u001b[1;33m,\u001b[0m \u001b[0my\u001b[0m \u001b[1;33m=\u001b[0m \u001b[1;34m\"Unemployment Rate\"\u001b[0m\u001b[1;33m,\u001b[0m \u001b[0mfigsize\u001b[0m\u001b[1;33m=\u001b[0m\u001b[1;33m(\u001b[0m\u001b[1;36m15\u001b[0m\u001b[1;33m,\u001b[0m \u001b[1;36m5\u001b[0m\u001b[1;33m)\u001b[0m\u001b[1;33m,\u001b[0m\u001b[0mcolor\u001b[0m\u001b[1;33m=\u001b[0m\u001b[1;34m\"red\"\u001b[0m\u001b[1;33m)\u001b[0m\u001b[1;33m\u001b[0m\u001b[1;33m\u001b[0m\u001b[0m\n\u001b[0m\u001b[0;32m      2\u001b[0m \u001b[0mplt\u001b[0m\u001b[1;33m.\u001b[0m\u001b[0mticks\u001b[0m\u001b[1;33m(\u001b[0m\u001b[0mrotation\u001b[0m\u001b[1;33m=\u001b[0m\u001b[1;36m90\u001b[0m\u001b[1;33m)\u001b[0m\u001b[1;33m\u001b[0m\u001b[1;33m\u001b[0m\u001b[0m\n\u001b[0;32m      3\u001b[0m \u001b[0mplt\u001b[0m\u001b[1;33m.\u001b[0m\u001b[0mtitle\u001b[0m\u001b[1;33m(\u001b[0m\u001b[1;34m\"NJ Unemployment Rate By Month\"\u001b[0m\u001b[1;33m,\u001b[0m \u001b[0mfontsize\u001b[0m\u001b[1;33m=\u001b[0m\u001b[1;36m30\u001b[0m\u001b[1;33m,\u001b[0m \u001b[0mfontweight\u001b[0m\u001b[1;33m=\u001b[0m\u001b[1;34m'bold'\u001b[0m\u001b[1;33m)\u001b[0m\u001b[1;33m\u001b[0m\u001b[1;33m\u001b[0m\u001b[0m\n\u001b[0;32m      4\u001b[0m \u001b[0mplt\u001b[0m\u001b[1;33m.\u001b[0m\u001b[0mylabel\u001b[0m\u001b[1;33m(\u001b[0m\u001b[1;34m\"Unemployment Rate\"\u001b[0m\u001b[1;33m)\u001b[0m\u001b[1;33m\u001b[0m\u001b[1;33m\u001b[0m\u001b[0m\n\u001b[0;32m      5\u001b[0m \u001b[0mplt\u001b[0m\u001b[1;33m.\u001b[0m\u001b[0mxlabel\u001b[0m\u001b[1;33m(\u001b[0m\u001b[1;34m''\u001b[0m\u001b[1;33m)\u001b[0m\u001b[1;33m\u001b[0m\u001b[1;33m\u001b[0m\u001b[0m\n",
      "\u001b[1;31mNameError\u001b[0m: name 'NJ' is not defined"
     ]
    }
   ],
   "source": [
    "NJ.plot.line(x ='Combined Date', y = \"Unemployment Rate\", figsize=(15, 5),color=\"red\")\n",
    "plt.ticks(rotation=90)\n",
    "plt.title(\"NJ Unemployment Rate By Month\", fontsize=30, fontweight='bold')\n",
    "plt.ylabel(\"Unemployment Rate\")\n",
    "plt.xlabel('')\n",
    "plt.show()"
   ]
  },
  {
   "cell_type": "code",
   "execution_count": 39,
   "metadata": {},
   "outputs": [
    {
     "name": "stdout",
     "output_type": "stream",
     "text": [
      "              Year  Unemployment Rate\n",
      "count    86.000000          86.000000\n",
      "mean   2019.755814           6.989535\n",
      "std       0.734623           4.194591\n",
      "min    2019.000000           3.200000\n",
      "25%    2019.000000           3.800000\n",
      "50%    2020.000000           3.900000\n",
      "75%    2020.000000           8.775000\n",
      "max    2021.000000          16.500000\n"
     ]
    }
   ],
   "source": [
    "#unemployment=[unemployment[\"State\"]=='NJ'].mean()\n",
    "\n",
    "print(unemployment.describe())"
   ]
  },
  {
   "cell_type": "code",
   "execution_count": 40,
   "metadata": {
    "scrolled": true
   },
   "outputs": [],
   "source": [
    "x_axis = np.arange(len(unemployment))\n",
    "tick_locations = [value+0.4 for value in x_axis]"
   ]
  },
  {
   "cell_type": "code",
   "execution_count": 41,
   "metadata": {},
   "outputs": [
    {
     "data": {
      "text/plain": [
       "([<matplotlib.axis.XTick at 0x27486075860>,\n",
       "  <matplotlib.axis.XTick at 0x27486075828>,\n",
       "  <matplotlib.axis.XTick at 0x27486075470>,\n",
       "  <matplotlib.axis.XTick at 0x2748616bb70>,\n",
       "  <matplotlib.axis.XTick at 0x274861780b8>,\n",
       "  <matplotlib.axis.XTick at 0x274861784e0>,\n",
       "  <matplotlib.axis.XTick at 0x2748616bf60>,\n",
       "  <matplotlib.axis.XTick at 0x27486178a20>,\n",
       "  <matplotlib.axis.XTick at 0x27486178eb8>,\n",
       "  <matplotlib.axis.XTick at 0x2748617d390>,\n",
       "  <matplotlib.axis.XTick at 0x2748617d828>,\n",
       "  <matplotlib.axis.XTick at 0x2748617dcc0>,\n",
       "  <matplotlib.axis.XTick at 0x27486187198>,\n",
       "  <matplotlib.axis.XTick at 0x27486187630>,\n",
       "  <matplotlib.axis.XTick at 0x27486187ac8>,\n",
       "  <matplotlib.axis.XTick at 0x27486187f60>,\n",
       "  <matplotlib.axis.XTick at 0x27486187a90>,\n",
       "  <matplotlib.axis.XTick at 0x2748617d7f0>,\n",
       "  <matplotlib.axis.XTick at 0x27486178b00>,\n",
       "  <matplotlib.axis.XTick at 0x2748618f5c0>,\n",
       "  <matplotlib.axis.XTick at 0x2748618fa58>,\n",
       "  <matplotlib.axis.XTick at 0x2748618fef0>,\n",
       "  <matplotlib.axis.XTick at 0x274861973c8>,\n",
       "  <matplotlib.axis.XTick at 0x27486197860>,\n",
       "  <matplotlib.axis.XTick at 0x27486197cf8>,\n",
       "  <matplotlib.axis.XTick at 0x274861979b0>,\n",
       "  <matplotlib.axis.XTick at 0x2748618feb8>,\n",
       "  <matplotlib.axis.XTick at 0x27486178e10>,\n",
       "  <matplotlib.axis.XTick at 0x274861a1390>,\n",
       "  <matplotlib.axis.XTick at 0x274861a18d0>,\n",
       "  <matplotlib.axis.XTick at 0x274861a1d68>,\n",
       "  <matplotlib.axis.XTick at 0x274861aa240>,\n",
       "  <matplotlib.axis.XTick at 0x274861aa6d8>,\n",
       "  <matplotlib.axis.XTick at 0x274861aab70>,\n",
       "  <matplotlib.axis.XTick at 0x274861b40b8>,\n",
       "  <matplotlib.axis.XTick at 0x274861aa7b8>,\n",
       "  <matplotlib.axis.XTick at 0x274861a1a20>,\n",
       "  <matplotlib.axis.XTick at 0x2748618fd68>,\n",
       "  <matplotlib.axis.XTick at 0x274861b46d8>,\n",
       "  <matplotlib.axis.XTick at 0x274861b4b70>,\n",
       "  <matplotlib.axis.XTick at 0x274861bd0b8>,\n",
       "  <matplotlib.axis.XTick at 0x274861bd4e0>,\n",
       "  <matplotlib.axis.XTick at 0x274861bd978>,\n",
       "  <matplotlib.axis.XTick at 0x274861bde10>,\n",
       "  <matplotlib.axis.XTick at 0x274861c42e8>,\n",
       "  <matplotlib.axis.XTick at 0x274861bdef0>,\n",
       "  <matplotlib.axis.XTick at 0x274861b49e8>,\n",
       "  <matplotlib.axis.XTick at 0x274861c4518>,\n",
       "  <matplotlib.axis.XTick at 0x274861c4978>,\n",
       "  <matplotlib.axis.XTick at 0x274861c4e10>,\n",
       "  <matplotlib.axis.XTick at 0x274861cf2e8>,\n",
       "  <matplotlib.axis.XTick at 0x274861cf780>,\n",
       "  <matplotlib.axis.XTick at 0x274861cfc18>,\n",
       "  <matplotlib.axis.XTick at 0x274861d8160>,\n",
       "  <matplotlib.axis.XTick at 0x274861d8588>,\n",
       "  <matplotlib.axis.XTick at 0x274861cfa90>,\n",
       "  <matplotlib.axis.XTick at 0x274861c47f0>,\n",
       "  <matplotlib.axis.XTick at 0x274861d84e0>,\n",
       "  <matplotlib.axis.XTick at 0x274861d8ba8>,\n",
       "  <matplotlib.axis.XTick at 0x274861e10f0>,\n",
       "  <matplotlib.axis.XTick at 0x274861e1518>,\n",
       "  <matplotlib.axis.XTick at 0x274861e19b0>,\n",
       "  <matplotlib.axis.XTick at 0x274861e1e48>,\n",
       "  <matplotlib.axis.XTick at 0x274861e9320>,\n",
       "  <matplotlib.axis.XTick at 0x274861e1908>,\n",
       "  <matplotlib.axis.XTick at 0x274861d8eb8>,\n",
       "  <matplotlib.axis.XTick at 0x274861c4d68>,\n",
       "  <matplotlib.axis.XTick at 0x274861e9278>,\n",
       "  <matplotlib.axis.XTick at 0x274861e9eb8>,\n",
       "  <matplotlib.axis.XTick at 0x274861f2390>,\n",
       "  <matplotlib.axis.XTick at 0x274861f2828>,\n",
       "  <matplotlib.axis.XTick at 0x274861f2cc0>,\n",
       "  <matplotlib.axis.XTick at 0x274861fa198>,\n",
       "  <matplotlib.axis.XTick at 0x274861fa630>,\n",
       "  <matplotlib.axis.XTick at 0x274861f27f0>,\n",
       "  <matplotlib.axis.XTick at 0x274861e9198>,\n",
       "  <matplotlib.axis.XTick at 0x274861fa978>,\n",
       "  <matplotlib.axis.XTick at 0x274861facc0>,\n",
       "  <matplotlib.axis.XTick at 0x27486205198>,\n",
       "  <matplotlib.axis.XTick at 0x27486205630>,\n",
       "  <matplotlib.axis.XTick at 0x27486205ac8>,\n",
       "  <matplotlib.axis.XTick at 0x27486205f60>,\n",
       "  <matplotlib.axis.XTick at 0x2748620c438>,\n",
       "  <matplotlib.axis.XTick at 0x2748620c8d0>,\n",
       "  <matplotlib.axis.XTick at 0x27486205f28>,\n",
       "  <matplotlib.axis.XTick at 0x274861fa860>],\n",
       " [Text(0, 0, 'PA'),\n",
       "  Text(0, 0, 'PA'),\n",
       "  Text(0, 0, 'PA'),\n",
       "  Text(0, 0, 'PA'),\n",
       "  Text(0, 0, 'PA'),\n",
       "  Text(0, 0, 'PA'),\n",
       "  Text(0, 0, 'PA'),\n",
       "  Text(0, 0, 'PA'),\n",
       "  Text(0, 0, 'PA'),\n",
       "  Text(0, 0, 'PA'),\n",
       "  Text(0, 0, 'PA'),\n",
       "  Text(0, 0, 'PA'),\n",
       "  Text(0, 0, 'PA'),\n",
       "  Text(0, 0, 'PA'),\n",
       "  Text(0, 0, 'PA'),\n",
       "  Text(0, 0, 'PA'),\n",
       "  Text(0, 0, 'PA'),\n",
       "  Text(0, 0, 'PA'),\n",
       "  Text(0, 0, 'PA'),\n",
       "  Text(0, 0, 'PA'),\n",
       "  Text(0, 0, 'PA'),\n",
       "  Text(0, 0, 'PA'),\n",
       "  Text(0, 0, 'PA'),\n",
       "  Text(0, 0, 'PA'),\n",
       "  Text(0, 0, 'PA'),\n",
       "  Text(0, 0, 'PA'),\n",
       "  Text(0, 0, 'PA'),\n",
       "  Text(0, 0, 'PA'),\n",
       "  Text(0, 0, 'PA'),\n",
       "  Text(0, 0, 'NY'),\n",
       "  Text(0, 0, 'NY'),\n",
       "  Text(0, 0, 'NY'),\n",
       "  Text(0, 0, 'NY'),\n",
       "  Text(0, 0, 'NY'),\n",
       "  Text(0, 0, 'NY'),\n",
       "  Text(0, 0, 'NY'),\n",
       "  Text(0, 0, 'NY'),\n",
       "  Text(0, 0, 'NY'),\n",
       "  Text(0, 0, 'NY'),\n",
       "  Text(0, 0, 'NY'),\n",
       "  Text(0, 0, 'NY'),\n",
       "  Text(0, 0, 'NY'),\n",
       "  Text(0, 0, 'NY'),\n",
       "  Text(0, 0, 'NY'),\n",
       "  Text(0, 0, 'NY'),\n",
       "  Text(0, 0, 'NY'),\n",
       "  Text(0, 0, 'NY'),\n",
       "  Text(0, 0, 'NY'),\n",
       "  Text(0, 0, 'NY'),\n",
       "  Text(0, 0, 'NY'),\n",
       "  Text(0, 0, 'NY'),\n",
       "  Text(0, 0, 'NY'),\n",
       "  Text(0, 0, 'NY'),\n",
       "  Text(0, 0, 'NY'),\n",
       "  Text(0, 0, 'NY'),\n",
       "  Text(0, 0, 'NY'),\n",
       "  Text(0, 0, 'NY'),\n",
       "  Text(0, 0, 'NJ'),\n",
       "  Text(0, 0, 'NJ'),\n",
       "  Text(0, 0, 'NJ'),\n",
       "  Text(0, 0, 'NJ'),\n",
       "  Text(0, 0, 'NJ'),\n",
       "  Text(0, 0, 'NJ'),\n",
       "  Text(0, 0, 'NJ'),\n",
       "  Text(0, 0, 'NJ'),\n",
       "  Text(0, 0, 'NJ'),\n",
       "  Text(0, 0, 'NJ'),\n",
       "  Text(0, 0, 'NJ'),\n",
       "  Text(0, 0, 'NJ'),\n",
       "  Text(0, 0, 'NJ'),\n",
       "  Text(0, 0, 'NJ'),\n",
       "  Text(0, 0, 'NJ'),\n",
       "  Text(0, 0, 'NJ'),\n",
       "  Text(0, 0, 'NJ'),\n",
       "  Text(0, 0, 'NJ'),\n",
       "  Text(0, 0, 'NJ'),\n",
       "  Text(0, 0, 'NJ'),\n",
       "  Text(0, 0, 'NJ'),\n",
       "  Text(0, 0, 'NJ'),\n",
       "  Text(0, 0, 'NJ'),\n",
       "  Text(0, 0, 'NJ'),\n",
       "  Text(0, 0, 'NJ'),\n",
       "  Text(0, 0, 'NJ'),\n",
       "  Text(0, 0, 'NJ'),\n",
       "  Text(0, 0, 'NJ'),\n",
       "  Text(0, 0, 'NJ')])"
      ]
     },
     "execution_count": 41,
     "metadata": {},
     "output_type": "execute_result"
    },
    {
     "data": {
      "image/png": "[encoded data removed]",
      "text/plain": [
       "<Figure size 1440x216 with 1 Axes>"
      ]
     },
     "metadata": {
      "needs_background": "light"
     },
     "output_type": "display_data"
    }
   ],
   "source": [
    "plt.figure(figsize=(20,3))\n",
    "plt.bar(x_axis, unemployment[\"Unemployment Rate\"], color='r', alpha=0.5, align=\"edge\")\n",
    "plt.xticks(tick_locations, unemployment[\"State\"], rotation=\"vertical\")"
   ]
  },
  {
   "cell_type": "code",
   "execution_count": null,
   "metadata": {
    "scrolled": true
   },
   "outputs": [],
   "source": []
  },
  {
   "cell_type": "code",
   "execution_count": null,
   "metadata": {},
   "outputs": [],
   "source": []
  },
  {
   "cell_type": "code",
   "execution_count": null,
   "metadata": {},
   "outputs": [],
   "source": []
  },
  {
   "cell_type": "code",
   "execution_count": null,
   "metadata": {},
   "outputs": [],
   "source": []
  },
  {
   "cell_type": "code",
   "execution_count": null,
   "metadata": {},
   "outputs": [],
   "source": []
  },
  {
   "cell_type": "code",
   "execution_count": null,
   "metadata": {},
   "outputs": [],
   "source": []
  }
 ],
 "metadata": {
  "kernelspec": {
   "display_name": "Python 3",
   "language": "python",
   "name": "python3"
  },
  "language_info": {
   "codemirror_mode": {
    "name": "ipython",
    "version": 3
   },
   "file_extension": ".py",
   "mimetype": "text/x-python",
   "name": "python",
   "nbconvert_exporter": "python",
   "pygments_lexer": "ipython3",
   "version": "3.6.10"
  }
 },
 "nbformat": 4,
 "nbformat_minor": 4
}
