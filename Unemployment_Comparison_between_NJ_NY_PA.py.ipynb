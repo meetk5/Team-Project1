{
 "cells": [
  {
   "cell_type": "code",
   "execution_count": 1,
   "metadata": {},
   "outputs": [],
   "source": [
    "import pandas as pd\n",
    "import numpy as np\n",
    "import matplotlib.pyplot as plt\n",
    "import scipy.stats as sts\n",
    "import csv\n",
    "import seaborn as sns"
   ]
  },
  {
   "cell_type": "code",
   "execution_count": 2,
   "metadata": {},
   "outputs": [],
   "source": [
    "#unemployment_csv_path= \"./NJ_NY_PA_Unemployment_Data.csv\"\n",
    "\n",
    "excel_file = 'Data/MB/NJ_NY_PA_Unemployment_Data.xlsx'\n",
    "unemployment= pd.read_excel(excel_file)\n"
   ]
  },
  {
   "cell_type": "code",
   "execution_count": 3,
   "metadata": {},
   "outputs": [
    {
     "data": {
      "text/html": [
       "<div>\n",
       "<style scoped>\n",
       "    .dataframe tbody tr th:only-of-type {\n",
       "        vertical-align: middle;\n",
       "    }\n",
       "\n",
       "    .dataframe tbody tr th {\n",
       "        vertical-align: top;\n",
       "    }\n",
       "\n",
       "    .dataframe thead th {\n",
       "        text-align: right;\n",
       "    }\n",
       "</style>\n",
       "<table border=\"1\" class=\"dataframe\">\n",
       "  <thead>\n",
       "    <tr style=\"text-align: right;\">\n",
       "      <th></th>\n",
       "      <th>Year</th>\n",
       "      <th>PA</th>\n",
       "      <th>NJ</th>\n",
       "      <th>NY</th>\n",
       "    </tr>\n",
       "  </thead>\n",
       "  <tbody>\n",
       "    <tr>\n",
       "      <th>0</th>\n",
       "      <td>2019 Jan</td>\n",
       "      <td>4.0</td>\n",
       "      <td>3.6</td>\n",
       "      <td>4.0</td>\n",
       "    </tr>\n",
       "    <tr>\n",
       "      <th>1</th>\n",
       "      <td>2019 Feb</td>\n",
       "      <td>3.9</td>\n",
       "      <td>3.5</td>\n",
       "      <td>3.9</td>\n",
       "    </tr>\n",
       "    <tr>\n",
       "      <th>2</th>\n",
       "      <td>2019 March</td>\n",
       "      <td>3.9</td>\n",
       "      <td>3.4</td>\n",
       "      <td>3.9</td>\n",
       "    </tr>\n",
       "    <tr>\n",
       "      <th>3</th>\n",
       "      <td>2019 April</td>\n",
       "      <td>3.8</td>\n",
       "      <td>3.3</td>\n",
       "      <td>3.8</td>\n",
       "    </tr>\n",
       "    <tr>\n",
       "      <th>4</th>\n",
       "      <td>2019 May</td>\n",
       "      <td>3.8</td>\n",
       "      <td>3.2</td>\n",
       "      <td>3.8</td>\n",
       "    </tr>\n",
       "    <tr>\n",
       "      <th>5</th>\n",
       "      <td>2019 June</td>\n",
       "      <td>3.8</td>\n",
       "      <td>3.2</td>\n",
       "      <td>3.8</td>\n",
       "    </tr>\n",
       "    <tr>\n",
       "      <th>6</th>\n",
       "      <td>2019 July</td>\n",
       "      <td>3.8</td>\n",
       "      <td>3.3</td>\n",
       "      <td>3.8</td>\n",
       "    </tr>\n",
       "    <tr>\n",
       "      <th>7</th>\n",
       "      <td>2019 Aug</td>\n",
       "      <td>3.8</td>\n",
       "      <td>3.4</td>\n",
       "      <td>3.8</td>\n",
       "    </tr>\n",
       "    <tr>\n",
       "      <th>8</th>\n",
       "      <td>2019 Sep</td>\n",
       "      <td>3.8</td>\n",
       "      <td>3.5</td>\n",
       "      <td>3.8</td>\n",
       "    </tr>\n",
       "    <tr>\n",
       "      <th>9</th>\n",
       "      <td>2019 Oct</td>\n",
       "      <td>3.8</td>\n",
       "      <td>3.5</td>\n",
       "      <td>3.8</td>\n",
       "    </tr>\n",
       "    <tr>\n",
       "      <th>10</th>\n",
       "      <td>2019 Nov</td>\n",
       "      <td>3.7</td>\n",
       "      <td>3.6</td>\n",
       "      <td>3.8</td>\n",
       "    </tr>\n",
       "    <tr>\n",
       "      <th>11</th>\n",
       "      <td>2019 Dec</td>\n",
       "      <td>3.7</td>\n",
       "      <td>3.6</td>\n",
       "      <td>3.7</td>\n",
       "    </tr>\n",
       "    <tr>\n",
       "      <th>12</th>\n",
       "      <td>2020 Jan</td>\n",
       "      <td>3.8</td>\n",
       "      <td>3.7</td>\n",
       "      <td>3.7</td>\n",
       "    </tr>\n",
       "    <tr>\n",
       "      <th>13</th>\n",
       "      <td>2020 Feb</td>\n",
       "      <td>3.9</td>\n",
       "      <td>3.7</td>\n",
       "      <td>3.8</td>\n",
       "    </tr>\n",
       "    <tr>\n",
       "      <th>14</th>\n",
       "      <td>2020 March</td>\n",
       "      <td>3.9</td>\n",
       "      <td>3.8</td>\n",
       "      <td>3.9</td>\n",
       "    </tr>\n",
       "    <tr>\n",
       "      <th>15</th>\n",
       "      <td>2020 April</td>\n",
       "      <td>16.2</td>\n",
       "      <td>16.5</td>\n",
       "      <td>3.9</td>\n",
       "    </tr>\n",
       "    <tr>\n",
       "      <th>16</th>\n",
       "      <td>2020 May</td>\n",
       "      <td>15.7</td>\n",
       "      <td>16.5</td>\n",
       "      <td>16.2</td>\n",
       "    </tr>\n",
       "    <tr>\n",
       "      <th>17</th>\n",
       "      <td>2020 June</td>\n",
       "      <td>15.0</td>\n",
       "      <td>16.3</td>\n",
       "      <td>15.7</td>\n",
       "    </tr>\n",
       "    <tr>\n",
       "      <th>18</th>\n",
       "      <td>2020 July</td>\n",
       "      <td>14.7</td>\n",
       "      <td>13.1</td>\n",
       "      <td>15.0</td>\n",
       "    </tr>\n",
       "    <tr>\n",
       "      <th>19</th>\n",
       "      <td>2020 Aug</td>\n",
       "      <td>11.7</td>\n",
       "      <td>11.0</td>\n",
       "      <td>14.7</td>\n",
       "    </tr>\n",
       "    <tr>\n",
       "      <th>20</th>\n",
       "      <td>2020 Sep</td>\n",
       "      <td>10.0</td>\n",
       "      <td>7.8</td>\n",
       "      <td>11.7</td>\n",
       "    </tr>\n",
       "    <tr>\n",
       "      <th>21</th>\n",
       "      <td>2020 Oct</td>\n",
       "      <td>8.7</td>\n",
       "      <td>7.7</td>\n",
       "      <td>10.0</td>\n",
       "    </tr>\n",
       "    <tr>\n",
       "      <th>22</th>\n",
       "      <td>2020 Nov</td>\n",
       "      <td>8.7</td>\n",
       "      <td>10.2</td>\n",
       "      <td>8.7</td>\n",
       "    </tr>\n",
       "    <tr>\n",
       "      <th>23</th>\n",
       "      <td>2020 Dec</td>\n",
       "      <td>8.7</td>\n",
       "      <td>7.7</td>\n",
       "      <td>3.7</td>\n",
       "    </tr>\n",
       "    <tr>\n",
       "      <th>24</th>\n",
       "      <td>2021 Jan</td>\n",
       "      <td>8.8</td>\n",
       "      <td>7.8</td>\n",
       "      <td>8.8</td>\n",
       "    </tr>\n",
       "    <tr>\n",
       "      <th>25</th>\n",
       "      <td>2021 Feb</td>\n",
       "      <td>8.9</td>\n",
       "      <td>7.8</td>\n",
       "      <td>8.9</td>\n",
       "    </tr>\n",
       "    <tr>\n",
       "      <th>26</th>\n",
       "      <td>2021 March</td>\n",
       "      <td>8.4</td>\n",
       "      <td>7.6</td>\n",
       "      <td>8.4</td>\n",
       "    </tr>\n",
       "    <tr>\n",
       "      <th>27</th>\n",
       "      <td>2021 April</td>\n",
       "      <td>8.2</td>\n",
       "      <td>7.5</td>\n",
       "      <td>8.2</td>\n",
       "    </tr>\n",
       "    <tr>\n",
       "      <th>28</th>\n",
       "      <td>2021 May</td>\n",
       "      <td>7.8</td>\n",
       "      <td>7.2</td>\n",
       "      <td>7.8</td>\n",
       "    </tr>\n",
       "  </tbody>\n",
       "</table>\n",
       "</div>"
      ],
      "text/plain": [
       "          Year    PA    NJ    NY\n",
       "0     2019 Jan   4.0   3.6   4.0\n",
       "1     2019 Feb   3.9   3.5   3.9\n",
       "2   2019 March   3.9   3.4   3.9\n",
       "3   2019 April   3.8   3.3   3.8\n",
       "4     2019 May   3.8   3.2   3.8\n",
       "5    2019 June   3.8   3.2   3.8\n",
       "6    2019 July   3.8   3.3   3.8\n",
       "7     2019 Aug   3.8   3.4   3.8\n",
       "8     2019 Sep   3.8   3.5   3.8\n",
       "9     2019 Oct   3.8   3.5   3.8\n",
       "10    2019 Nov   3.7   3.6   3.8\n",
       "11    2019 Dec   3.7   3.6   3.7\n",
       "12    2020 Jan   3.8   3.7   3.7\n",
       "13    2020 Feb   3.9   3.7   3.8\n",
       "14  2020 March   3.9   3.8   3.9\n",
       "15  2020 April  16.2  16.5   3.9\n",
       "16    2020 May  15.7  16.5  16.2\n",
       "17   2020 June  15.0  16.3  15.7\n",
       "18   2020 July  14.7  13.1  15.0\n",
       "19    2020 Aug  11.7  11.0  14.7\n",
       "20    2020 Sep  10.0   7.8  11.7\n",
       "21    2020 Oct   8.7   7.7  10.0\n",
       "22    2020 Nov   8.7  10.2   8.7\n",
       "23    2020 Dec   8.7   7.7   3.7\n",
       "24    2021 Jan   8.8   7.8   8.8\n",
       "25    2021 Feb   8.9   7.8   8.9\n",
       "26  2021 March   8.4   7.6   8.4\n",
       "27  2021 April   8.2   7.5   8.2\n",
       "28    2021 May   7.8   7.2   7.8"
      ]
     },
     "execution_count": 3,
     "metadata": {},
     "output_type": "execute_result"
    }
   ],
   "source": [
    "excel_file2= 'Data/MB/Tristate_Unemployment_Data.xlsx'\n",
    "tristate= pd.read_excel(excel_file2)\n",
    "tristate"
   ]
  },
  {
   "cell_type": "code",
   "execution_count": 5,
   "metadata": {},
   "outputs": [],
   "source": [
    "#import numpy as np\n",
    "\n",
    "#x_axis = np.arange(len(states))"
   ]
  },
  {
   "cell_type": "code",
   "execution_count": 6,
   "metadata": {},
   "outputs": [
    {
     "data": {
      "text/plain": [
       "<BarContainer object of 29 artists>"
      ]
     },
     "execution_count": 6,
     "metadata": {},
     "output_type": "execute_result"
    },
    {
     "data": {
      "image/png": "[encoded data removed]",
      "text/plain": [
       "<Figure size 432x288 with 1 Axes>"
      ]
     },
     "metadata": {
      "needs_background": "light"
     },
     "output_type": "display_data"
    }
   ],
   "source": [
    "months = [\"Jan_2019\", \"Feb_2019\", \"March_2019\", \"April_2019\", \"May_2019\", \"June_2019\", \"July_2019\", \"August_2019\",\n",
    "          \"Sept_2019\", \"Oct_2019\", \"Nov_2019\", \"Dec_2019\",\"Jan_2020\", \"Feb_2020\", \"March_2020\", \"April_2020\", \"May_2020\",\n",
    "          \"June_2020\", \"July_2020\", \"August_2020\",\"Sept_2020\", \"Oct_2020\", \"Nov_2020\", \"Dec_2020\",\"Jan_2021\",\n",
    "          \"Feb_2021\", \"March_2021\", \"April_2021\", \"May_2021\"]\n",
    "unemployment_rates = [3.6,3.5,3.4,3.3,3.2,3.2,3.3,3.4,3.5,3.5,3.6,3.6,3.7,3.7,3.8,16.5,16.5,16.3,13.1,11.0,7.8,7.7,10.2,\n",
    "                      7.7,7.8,7.8,7.6,7.5,7.2]\n",
    "x_axis = np.arange(len(unemployment_rates))\n",
    "plt.bar(x_axis, unemployment_rates, color =\"b\", align=\"center\")"
   ]
  },
  {
   "cell_type": "code",
   "execution_count": 7,
   "metadata": {},
   "outputs": [
    {
     "data": {
      "image/png": "[encoded data removed]",
      "text/plain": [
       "<Figure size 2160x1080 with 1 Axes>"
      ]
     },
     "metadata": {
      "needs_background": "light"
     },
     "output_type": "display_data"
    }
   ],
   "source": [
    "\n",
    "fig = plt.figure(figsize=(30, 15))\n",
    "plt.bar(x_axis, unemployment_rates, color =\"b\", align=\"center\")\n",
    "#Create ticks\n",
    "tick_locations = [value for value in x_axis]\n",
    "plt.xticks(tick_locations, months, fontsize=15)\n",
    "plt.xlim(-0.75, len(x_axis)-0.25)\n",
    "plt.xticks(rotation=40, fontsize=15)\n",
    "#plt.ylim(0, max(months)+0.4)\n",
    "plt.title(\"Unemployment Rates in New Jersey from 2019-2021\", fontsize=40)\n",
    "plt.ylabel(\"Unemployment Rates\", fontsize=30)\n",
    "plt.xlabel(\"Months\", fontsize=30)\n",
    "plt.savefig(\"Images/MB/NJRates.png\")\n",
    "plt.show()"
   ]
  },
  {
   "cell_type": "code",
   "execution_count": 8,
   "metadata": {},
   "outputs": [
    {
     "data": {
      "image/png": "[encoded data removed]",
      "text/plain": [
       "<Figure size 432x288 with 1 Axes>"
      ]
     },
     "metadata": {
      "needs_background": "light"
     },
     "output_type": "display_data"
    },
    {
     "data": {
      "image/png": "[encoded data removed]",
      "text/plain": [
       "<Figure size 2160x1080 with 1 Axes>"
      ]
     },
     "metadata": {
      "needs_background": "light"
     },
     "output_type": "display_data"
    }
   ],
   "source": [
    "#New York\n",
    "months = [\"Jan_2019\", \"Feb_2019\", \"March_2019\", \"April_2019\", \"May_2019\", \"June_2019\", \"July_2019\", \"August_2019\",\n",
    "          \"Sept_2019\", \"Oct_2019\", \"Nov_2019\", \"Dec_2019\",\"Jan_2020\", \"Feb_2020\", \"March_2020\", \"April_2020\", \"May_2020\",\n",
    "          \"June_2020\", \"July_2020\", \"August_2020\",\"Sept_2020\", \"Oct_2020\", \"Nov_2020\", \"Dec_2020\",\"Jan_2021\",\n",
    "          \"Feb_2021\", \"March_2021\", \"April_2021\", \"May_2021\"]\n",
    "unemployment_rates = [4.0,3.9,3.9,3.8,3.8,3.8,3.8,3.8,3.8,3.8,3.8,3.7,3.7,3.8,3.9,3.9,16.2,15.7,15.0,14.7,11.7,10.0,\n",
    "                      8.7,3.7,8.8,8.9,8.4,8.2,7.8]\n",
    "x_axis = np.arange(len(unemployment_rates))\n",
    "plt.bar(x_axis, unemployment_rates, color =\"g\", align=\"center\")\n",
    "fig = plt.figure(figsize=(30, 15))\n",
    "plt.bar(x_axis, unemployment_rates, color =\"g\", align=\"center\")\n",
    "#Create ticks\n",
    "tick_locations = [value for value in x_axis]\n",
    "plt.xticks(tick_locations, months)\n",
    "plt.xlim(-0.75, len(x_axis)-0.25)\n",
    "plt.xticks(rotation=40, fontsize=15)\n",
    "#plt.ylim(0, max(months)+0.4)\n",
    "plt.title(\"Unemployment Rates in New York from 2019-2021\", fontsize=40)\n",
    "plt.ylabel(\"Unemployment Rates\", fontsize=30)\n",
    "plt.xlabel(\"Months\", fontsize=30)\n",
    "plt.savefig(\"Images/MB/NYRates.png\")"
   ]
  },
  {
   "cell_type": "code",
   "execution_count": 9,
   "metadata": {},
   "outputs": [
    {
     "data": {
      "image/png": "[encoded data removed]",
      "text/plain": [
       "<Figure size 432x288 with 1 Axes>"
      ]
     },
     "metadata": {
      "needs_background": "light"
     },
     "output_type": "display_data"
    },
    {
     "data": {
      "image/png": "[encoded data removed]",
      "text/plain": [
       "<Figure size 2160x1080 with 1 Axes>"
      ]
     },
     "metadata": {
      "needs_background": "light"
     },
     "output_type": "display_data"
    }
   ],
   "source": [
    "months = [\"Jan_2019\", \"Feb_2019\", \"March_2019\", \"April_2019\", \"May_2019\", \"June_2019\", \"July_2019\", \"August_2019\",\n",
    "          \"Sept_2019\", \"Oct_2019\", \"Nov_2019\", \"Dec_2019\",\"Jan_2020\", \"Feb_2020\", \"March_2020\", \"April_2020\", \"May_2020\",\n",
    "          \"June_2020\", \"July_2020\", \"August_2020\",\"Sept_2020\", \"Oct_2020\", \"Nov_2020\", \"Dec_2020\",\"Jan_2021\",\n",
    "          \"Feb_2021\", \"March_2021\", \"April_2021\", \"May_2021\"]\n",
    "unemployment_rates = [4.0,3.9,3.9,3.8,3.8,3.8,3.8,3.8,3.8,3.8,3.8,3.7,3.7,3.8,3.9,3.9,16.2,15.7,15.0,14.7,11.7,10.0,\n",
    "                      8.7,3.7,8.8,8.9,8.4,8.2,7.8]\n",
    "\n",
    " \n",
    "x_axis = np.arange(len(unemployment_rates))\n",
    "plt.bar(x_axis, unemployment_rates, color =\"r\", align=\"center\")\n",
    "fig = plt.figure(figsize=(30, 15))\n",
    "plt.bar(x_axis, unemployment_rates, color =\"r\", align=\"center\")\n",
    "#Create ticks\n",
    "tick_locations = [value for value in x_axis]\n",
    "plt.xticks(tick_locations, months)\n",
    "plt.xlim(-0.75, len(x_axis)-0.25)\n",
    "plt.xticks(rotation=40, fontsize=15)\n",
    "#plt.ylim(0, max(months)+0.4)\n",
    "plt.title(\"Unemployment Rates in Pennsylvania from 2019-2021\", fontsize=40)\n",
    "plt.ylabel(\"Unemployment Rates\", fontsize=30)\n",
    "plt.xlabel(\"Months\", fontsize=30)\n",
    "plt.savefig(\"Images/MB/PARates.png\")"
   ]
  },
  {
   "cell_type": "code",
   "execution_count": 10,
   "metadata": {
    "scrolled": false
   },
   "outputs": [
    {
     "data": {
      "text/html": [
       "<div>\n",
       "<style scoped>\n",
       "    .dataframe tbody tr th:only-of-type {\n",
       "        vertical-align: middle;\n",
       "    }\n",
       "\n",
       "    .dataframe tbody tr th {\n",
       "        vertical-align: top;\n",
       "    }\n",
       "\n",
       "    .dataframe thead th {\n",
       "        text-align: right;\n",
       "    }\n",
       "</style>\n",
       "<table border=\"1\" class=\"dataframe\">\n",
       "  <thead>\n",
       "    <tr style=\"text-align: right;\">\n",
       "      <th></th>\n",
       "      <th>State</th>\n",
       "      <th>Month</th>\n",
       "      <th>Year</th>\n",
       "      <th>Unemployment Rate</th>\n",
       "    </tr>\n",
       "  </thead>\n",
       "  <tbody>\n",
       "    <tr>\n",
       "      <th>0</th>\n",
       "      <td>PA</td>\n",
       "      <td>January</td>\n",
       "      <td>2019</td>\n",
       "      <td>4.0</td>\n",
       "    </tr>\n",
       "    <tr>\n",
       "      <th>1</th>\n",
       "      <td>PA</td>\n",
       "      <td>February</td>\n",
       "      <td>2019</td>\n",
       "      <td>3.9</td>\n",
       "    </tr>\n",
       "    <tr>\n",
       "      <th>2</th>\n",
       "      <td>PA</td>\n",
       "      <td>March</td>\n",
       "      <td>2019</td>\n",
       "      <td>3.9</td>\n",
       "    </tr>\n",
       "    <tr>\n",
       "      <th>3</th>\n",
       "      <td>PA</td>\n",
       "      <td>April</td>\n",
       "      <td>2019</td>\n",
       "      <td>3.8</td>\n",
       "    </tr>\n",
       "    <tr>\n",
       "      <th>4</th>\n",
       "      <td>PA</td>\n",
       "      <td>May</td>\n",
       "      <td>2019</td>\n",
       "      <td>3.8</td>\n",
       "    </tr>\n",
       "    <tr>\n",
       "      <th>...</th>\n",
       "      <td>...</td>\n",
       "      <td>...</td>\n",
       "      <td>...</td>\n",
       "      <td>...</td>\n",
       "    </tr>\n",
       "    <tr>\n",
       "      <th>81</th>\n",
       "      <td>NJ</td>\n",
       "      <td>January</td>\n",
       "      <td>2021</td>\n",
       "      <td>7.8</td>\n",
       "    </tr>\n",
       "    <tr>\n",
       "      <th>82</th>\n",
       "      <td>NJ</td>\n",
       "      <td>February</td>\n",
       "      <td>2021</td>\n",
       "      <td>7.8</td>\n",
       "    </tr>\n",
       "    <tr>\n",
       "      <th>83</th>\n",
       "      <td>NJ</td>\n",
       "      <td>March</td>\n",
       "      <td>2021</td>\n",
       "      <td>7.6</td>\n",
       "    </tr>\n",
       "    <tr>\n",
       "      <th>84</th>\n",
       "      <td>NJ</td>\n",
       "      <td>April</td>\n",
       "      <td>2021</td>\n",
       "      <td>7.5</td>\n",
       "    </tr>\n",
       "    <tr>\n",
       "      <th>85</th>\n",
       "      <td>NJ</td>\n",
       "      <td>May</td>\n",
       "      <td>2021</td>\n",
       "      <td>7.2</td>\n",
       "    </tr>\n",
       "  </tbody>\n",
       "</table>\n",
       "<p>86 rows × 4 columns</p>\n",
       "</div>"
      ],
      "text/plain": [
       "   State    Month   Year  Unemployment Rate\n",
       "0     PA   January  2019                4.0\n",
       "1     PA  February  2019                3.9\n",
       "2     PA     March  2019                3.9\n",
       "3     PA     April  2019                3.8\n",
       "4     PA       May  2019                3.8\n",
       "..   ...       ...   ...                ...\n",
       "81    NJ   January  2021                7.8\n",
       "82    NJ  February  2021                7.8\n",
       "83    NJ     March  2021                7.6\n",
       "84    NJ     April  2021                7.5\n",
       "85    NJ       May  2021                7.2\n",
       "\n",
       "[86 rows x 4 columns]"
      ]
     },
     "execution_count": 10,
     "metadata": {},
     "output_type": "execute_result"
    }
   ],
   "source": [
    "#Read the excel file\n",
    "\n",
    "unemployment"
   ]
  },
  {
   "cell_type": "code",
   "execution_count": 11,
   "metadata": {},
   "outputs": [
    {
     "data": {
      "text/plain": [
       "Index(['State', 'Month ', 'Year', 'Unemployment Rate'], dtype='object')"
      ]
     },
     "execution_count": 11,
     "metadata": {},
     "output_type": "execute_result"
    }
   ],
   "source": [
    "unemployment.columns"
   ]
  },
  {
   "cell_type": "code",
   "execution_count": 12,
   "metadata": {},
   "outputs": [],
   "source": [
    "column_names=unemployment.columns.tolist()"
   ]
  },
  {
   "cell_type": "code",
   "execution_count": 13,
   "metadata": {},
   "outputs": [],
   "source": [
    "column_names[1]=\"Month\""
   ]
  },
  {
   "cell_type": "code",
   "execution_count": 14,
   "metadata": {},
   "outputs": [
    {
     "data": {
      "text/plain": [
       "['State', 'Month', 'Year', 'Unemployment Rate']"
      ]
     },
     "execution_count": 14,
     "metadata": {},
     "output_type": "execute_result"
    }
   ],
   "source": [
    "#Reassign variable\n",
    "unemployment.columns=column_names\n",
    "column_names"
   ]
  },
  {
   "cell_type": "code",
   "execution_count": 15,
   "metadata": {},
   "outputs": [
    {
     "data": {
      "text/html": [
       "<div>\n",
       "<style scoped>\n",
       "    .dataframe tbody tr th:only-of-type {\n",
       "        vertical-align: middle;\n",
       "    }\n",
       "\n",
       "    .dataframe tbody tr th {\n",
       "        vertical-align: top;\n",
       "    }\n",
       "\n",
       "    .dataframe thead th {\n",
       "        text-align: right;\n",
       "    }\n",
       "</style>\n",
       "<table border=\"1\" class=\"dataframe\">\n",
       "  <thead>\n",
       "    <tr style=\"text-align: right;\">\n",
       "      <th></th>\n",
       "      <th>State</th>\n",
       "      <th>Month</th>\n",
       "      <th>Year</th>\n",
       "      <th>Unemployment Rate</th>\n",
       "    </tr>\n",
       "  </thead>\n",
       "  <tbody>\n",
       "    <tr>\n",
       "      <th>0</th>\n",
       "      <td>PA</td>\n",
       "      <td>January</td>\n",
       "      <td>2019</td>\n",
       "      <td>4.0</td>\n",
       "    </tr>\n",
       "    <tr>\n",
       "      <th>1</th>\n",
       "      <td>PA</td>\n",
       "      <td>February</td>\n",
       "      <td>2019</td>\n",
       "      <td>3.9</td>\n",
       "    </tr>\n",
       "    <tr>\n",
       "      <th>2</th>\n",
       "      <td>PA</td>\n",
       "      <td>March</td>\n",
       "      <td>2019</td>\n",
       "      <td>3.9</td>\n",
       "    </tr>\n",
       "    <tr>\n",
       "      <th>3</th>\n",
       "      <td>PA</td>\n",
       "      <td>April</td>\n",
       "      <td>2019</td>\n",
       "      <td>3.8</td>\n",
       "    </tr>\n",
       "    <tr>\n",
       "      <th>4</th>\n",
       "      <td>PA</td>\n",
       "      <td>May</td>\n",
       "      <td>2019</td>\n",
       "      <td>3.8</td>\n",
       "    </tr>\n",
       "    <tr>\n",
       "      <th>...</th>\n",
       "      <td>...</td>\n",
       "      <td>...</td>\n",
       "      <td>...</td>\n",
       "      <td>...</td>\n",
       "    </tr>\n",
       "    <tr>\n",
       "      <th>81</th>\n",
       "      <td>NJ</td>\n",
       "      <td>January</td>\n",
       "      <td>2021</td>\n",
       "      <td>7.8</td>\n",
       "    </tr>\n",
       "    <tr>\n",
       "      <th>82</th>\n",
       "      <td>NJ</td>\n",
       "      <td>February</td>\n",
       "      <td>2021</td>\n",
       "      <td>7.8</td>\n",
       "    </tr>\n",
       "    <tr>\n",
       "      <th>83</th>\n",
       "      <td>NJ</td>\n",
       "      <td>March</td>\n",
       "      <td>2021</td>\n",
       "      <td>7.6</td>\n",
       "    </tr>\n",
       "    <tr>\n",
       "      <th>84</th>\n",
       "      <td>NJ</td>\n",
       "      <td>April</td>\n",
       "      <td>2021</td>\n",
       "      <td>7.5</td>\n",
       "    </tr>\n",
       "    <tr>\n",
       "      <th>85</th>\n",
       "      <td>NJ</td>\n",
       "      <td>May</td>\n",
       "      <td>2021</td>\n",
       "      <td>7.2</td>\n",
       "    </tr>\n",
       "  </tbody>\n",
       "</table>\n",
       "<p>86 rows × 4 columns</p>\n",
       "</div>"
      ],
      "text/plain": [
       "   State     Month  Year  Unemployment Rate\n",
       "0     PA   January  2019                4.0\n",
       "1     PA  February  2019                3.9\n",
       "2     PA     March  2019                3.9\n",
       "3     PA     April  2019                3.8\n",
       "4     PA       May  2019                3.8\n",
       "..   ...       ...   ...                ...\n",
       "81    NJ   January  2021                7.8\n",
       "82    NJ  February  2021                7.8\n",
       "83    NJ     March  2021                7.6\n",
       "84    NJ     April  2021                7.5\n",
       "85    NJ       May  2021                7.2\n",
       "\n",
       "[86 rows x 4 columns]"
      ]
     },
     "execution_count": 15,
     "metadata": {},
     "output_type": "execute_result"
    }
   ],
   "source": [
    "#Create a DataFrame for unemployment\n",
    "unemployment_df=(unemployment)\n",
    "unemployment_df"
   ]
  },
  {
   "cell_type": "code",
   "execution_count": 16,
   "metadata": {},
   "outputs": [
    {
     "data": {
      "text/plain": [
       "State\n",
       "NJ    6.793103\n",
       "NY    6.971429\n",
       "PA    7.203448\n",
       "Name: Unemployment Rate, dtype: float64"
      ]
     },
     "execution_count": 16,
     "metadata": {},
     "output_type": "execute_result"
    }
   ],
   "source": [
    "#Generate a summary statistics table of mean, median, variance,  standard deviation, and SEM of the rate for each state\n",
    "\n",
    "mean=unemployment_df.groupby(\"State\")[\"Unemployment Rate\"].mean()\n",
    "mean"
   ]
  },
  {
   "cell_type": "code",
   "execution_count": 17,
   "metadata": {},
   "outputs": [
    {
     "data": {
      "text/plain": [
       "Year\n",
       "2019    3.686111\n",
       "2020    9.894286\n",
       "2021    8.140000\n",
       "Name: Unemployment Rate, dtype: float64"
      ]
     },
     "execution_count": 17,
     "metadata": {},
     "output_type": "execute_result"
    }
   ],
   "source": [
    "mean=unemployment_df.groupby(\"Year\")[\"Unemployment Rate\"].mean()\n",
    "mean"
   ]
  },
  {
   "cell_type": "code",
   "execution_count": 18,
   "metadata": {},
   "outputs": [
    {
     "data": {
      "text/plain": [
       "State\n",
       "NJ    3.8\n",
       "NY    3.9\n",
       "PA    4.0\n",
       "Name: Unemployment Rate, dtype: float64"
      ]
     },
     "execution_count": 18,
     "metadata": {},
     "output_type": "execute_result"
    }
   ],
   "source": [
    "#Calculate the median\n",
    "median=unemployment_df.groupby(\"State\")[\"Unemployment Rate\"].median()\n",
    "median"
   ]
  },
  {
   "cell_type": "code",
   "execution_count": 19,
   "metadata": {},
   "outputs": [
    {
     "data": {
      "text/plain": [
       "State\n",
       "NJ    18.513522\n",
       "NY    18.166561\n",
       "PA    17.293202\n",
       "Name: Unemployment Rate, dtype: float64"
      ]
     },
     "execution_count": 19,
     "metadata": {},
     "output_type": "execute_result"
    }
   ],
   "source": [
    "#Calculate the variance\n",
    "variance=unemployment_df.groupby(\"State\")[\"Unemployment Rate\"].var()\n",
    "variance"
   ]
  },
  {
   "cell_type": "code",
   "execution_count": 20,
   "metadata": {},
   "outputs": [
    {
     "data": {
      "text/plain": [
       "State\n",
       "NJ    0.798998\n",
       "NY    0.805485\n",
       "PA    0.772216\n",
       "Name: Unemployment Rate, dtype: float64"
      ]
     },
     "execution_count": 20,
     "metadata": {},
     "output_type": "execute_result"
    }
   ],
   "source": [
    "#Calculate the SEM\n",
    "\n",
    "SEM=unemployment_df.groupby(\"State\")[\"Unemployment Rate\"].sem()\n",
    "SEM"
   ]
  },
  {
   "cell_type": "code",
   "execution_count": 21,
   "metadata": {},
   "outputs": [
    {
     "data": {
      "text/plain": [
       "State\n",
       "NJ    4.302734\n",
       "NY    4.262225\n",
       "PA    4.158510\n",
       "Name: Unemployment Rate, dtype: float64"
      ]
     },
     "execution_count": 21,
     "metadata": {},
     "output_type": "execute_result"
    }
   ],
   "source": [
    "#Calculate the standard deviation\n",
    "\n",
    "standard_dv=unemployment_df.groupby(\"State\")[\"Unemployment Rate\"].std()\n",
    "standard_dv"
   ]
  },
  {
   "cell_type": "code",
   "execution_count": 22,
   "metadata": {},
   "outputs": [
    {
     "data": {
      "text/html": [
       "<div>\n",
       "<style scoped>\n",
       "    .dataframe tbody tr th:only-of-type {\n",
       "        vertical-align: middle;\n",
       "    }\n",
       "\n",
       "    .dataframe tbody tr th {\n",
       "        vertical-align: top;\n",
       "    }\n",
       "\n",
       "    .dataframe thead th {\n",
       "        text-align: right;\n",
       "    }\n",
       "</style>\n",
       "<table border=\"1\" class=\"dataframe\">\n",
       "  <thead>\n",
       "    <tr style=\"text-align: right;\">\n",
       "      <th></th>\n",
       "      <th>Mean</th>\n",
       "      <th>Median</th>\n",
       "      <th>Variance</th>\n",
       "      <th>Standard Deviation</th>\n",
       "      <th>SEM</th>\n",
       "    </tr>\n",
       "  </thead>\n",
       "  <tbody>\n",
       "    <tr>\n",
       "      <th>2019</th>\n",
       "      <td>3.686111</td>\n",
       "      <td>NaN</td>\n",
       "      <td>NaN</td>\n",
       "      <td>NaN</td>\n",
       "      <td>NaN</td>\n",
       "    </tr>\n",
       "    <tr>\n",
       "      <th>2020</th>\n",
       "      <td>9.894286</td>\n",
       "      <td>NaN</td>\n",
       "      <td>NaN</td>\n",
       "      <td>NaN</td>\n",
       "      <td>NaN</td>\n",
       "    </tr>\n",
       "    <tr>\n",
       "      <th>2021</th>\n",
       "      <td>8.140000</td>\n",
       "      <td>NaN</td>\n",
       "      <td>NaN</td>\n",
       "      <td>NaN</td>\n",
       "      <td>NaN</td>\n",
       "    </tr>\n",
       "    <tr>\n",
       "      <th>NJ</th>\n",
       "      <td>NaN</td>\n",
       "      <td>3.8</td>\n",
       "      <td>18.513522</td>\n",
       "      <td>4.302734</td>\n",
       "      <td>0.798998</td>\n",
       "    </tr>\n",
       "    <tr>\n",
       "      <th>NY</th>\n",
       "      <td>NaN</td>\n",
       "      <td>3.9</td>\n",
       "      <td>18.166561</td>\n",
       "      <td>4.262225</td>\n",
       "      <td>0.805485</td>\n",
       "    </tr>\n",
       "    <tr>\n",
       "      <th>PA</th>\n",
       "      <td>NaN</td>\n",
       "      <td>4.0</td>\n",
       "      <td>17.293202</td>\n",
       "      <td>4.158510</td>\n",
       "      <td>0.772216</td>\n",
       "    </tr>\n",
       "  </tbody>\n",
       "</table>\n",
       "</div>"
      ],
      "text/plain": [
       "          Mean  Median   Variance  Standard Deviation       SEM\n",
       "2019  3.686111     NaN        NaN                 NaN       NaN\n",
       "2020  9.894286     NaN        NaN                 NaN       NaN\n",
       "2021  8.140000     NaN        NaN                 NaN       NaN\n",
       "NJ         NaN     3.8  18.513522            4.302734  0.798998\n",
       "NY         NaN     3.9  18.166561            4.262225  0.805485\n",
       "PA         NaN     4.0  17.293202            4.158510  0.772216"
      ]
     },
     "execution_count": 22,
     "metadata": {},
     "output_type": "execute_result"
    }
   ],
   "source": [
    "summary_df=pd.DataFrame({\"Mean\":mean, \"Median\":median, \"Variance\": variance, \"Standard Deviation\": standard_dv, \"SEM\":SEM})\n",
    "summary_df"
   ]
  },
  {
   "cell_type": "code",
   "execution_count": 23,
   "metadata": {},
   "outputs": [
    {
     "data": {
      "text/html": [
       "<div>\n",
       "<style scoped>\n",
       "    .dataframe tbody tr th:only-of-type {\n",
       "        vertical-align: middle;\n",
       "    }\n",
       "\n",
       "    .dataframe tbody tr th {\n",
       "        vertical-align: top;\n",
       "    }\n",
       "\n",
       "    .dataframe thead th {\n",
       "        text-align: right;\n",
       "    }\n",
       "</style>\n",
       "<table border=\"1\" class=\"dataframe\">\n",
       "  <thead>\n",
       "    <tr style=\"text-align: right;\">\n",
       "      <th></th>\n",
       "      <th>Month</th>\n",
       "      <th>Year</th>\n",
       "      <th>Unemployment Rate</th>\n",
       "    </tr>\n",
       "    <tr>\n",
       "      <th>State</th>\n",
       "      <th></th>\n",
       "      <th></th>\n",
       "      <th></th>\n",
       "    </tr>\n",
       "  </thead>\n",
       "  <tbody>\n",
       "    <tr>\n",
       "      <th>NJ</th>\n",
       "      <td>April</td>\n",
       "      <td>2020</td>\n",
       "      <td>16.5</td>\n",
       "    </tr>\n",
       "    <tr>\n",
       "      <th>NY</th>\n",
       "      <td>April</td>\n",
       "      <td>2020</td>\n",
       "      <td>16.2</td>\n",
       "    </tr>\n",
       "    <tr>\n",
       "      <th>PA</th>\n",
       "      <td>April</td>\n",
       "      <td>2020</td>\n",
       "      <td>16.2</td>\n",
       "    </tr>\n",
       "  </tbody>\n",
       "</table>\n",
       "</div>"
      ],
      "text/plain": [
       "       Month  Year  Unemployment Rate\n",
       "State                                \n",
       "NJ     April  2020               16.5\n",
       "NY     April  2020               16.2\n",
       "PA     April  2020               16.2"
      ]
     },
     "execution_count": 23,
     "metadata": {},
     "output_type": "execute_result"
    }
   ],
   "source": [
    "unemployment.sort_values(by = 'Unemployment Rate', ascending=False).groupby(['State']).first()"
   ]
  },
  {
   "cell_type": "code",
   "execution_count": 25,
   "metadata": {},
   "outputs": [
    {
     "data": {
      "text/html": [
       "<div>\n",
       "<style scoped>\n",
       "    .dataframe tbody tr th:only-of-type {\n",
       "        vertical-align: middle;\n",
       "    }\n",
       "\n",
       "    .dataframe tbody tr th {\n",
       "        vertical-align: top;\n",
       "    }\n",
       "\n",
       "    .dataframe thead th {\n",
       "        text-align: right;\n",
       "    }\n",
       "</style>\n",
       "<table border=\"1\" class=\"dataframe\">\n",
       "  <thead>\n",
       "    <tr style=\"text-align: right;\">\n",
       "      <th></th>\n",
       "      <th>State</th>\n",
       "      <th>Month</th>\n",
       "      <th>Year</th>\n",
       "      <th>Unemployment Rate</th>\n",
       "    </tr>\n",
       "  </thead>\n",
       "  <tbody>\n",
       "    <tr>\n",
       "      <th>72</th>\n",
       "      <td>NJ</td>\n",
       "      <td>April</td>\n",
       "      <td>2020</td>\n",
       "      <td>16.5</td>\n",
       "    </tr>\n",
       "  </tbody>\n",
       "</table>\n",
       "</div>"
      ],
      "text/plain": [
       "   State  Month  Year  Unemployment Rate\n",
       "72    NJ  April  2020               16.5"
      ]
     },
     "execution_count": 25,
     "metadata": {},
     "output_type": "execute_result"
    }
   ],
   "source": [
    "unemployment.loc[unemployment['State']=='NJ'].sort_values(by= 'Unemployment Rate', ascending=False).head(1)"
   ]
  },
  {
   "cell_type": "code",
   "execution_count": 26,
   "metadata": {},
   "outputs": [
    {
     "data": {
      "text/html": [
       "<div>\n",
       "<style scoped>\n",
       "    .dataframe tbody tr th:only-of-type {\n",
       "        vertical-align: middle;\n",
       "    }\n",
       "\n",
       "    .dataframe tbody tr th {\n",
       "        vertical-align: top;\n",
       "    }\n",
       "\n",
       "    .dataframe thead th {\n",
       "        text-align: right;\n",
       "    }\n",
       "</style>\n",
       "<table border=\"1\" class=\"dataframe\">\n",
       "  <thead>\n",
       "    <tr style=\"text-align: right;\">\n",
       "      <th></th>\n",
       "      <th>State</th>\n",
       "      <th>Month</th>\n",
       "      <th>Year</th>\n",
       "      <th>Unemployment Rate</th>\n",
       "    </tr>\n",
       "  </thead>\n",
       "  <tbody>\n",
       "    <tr>\n",
       "      <th>44</th>\n",
       "      <td>NY</td>\n",
       "      <td>April</td>\n",
       "      <td>2020</td>\n",
       "      <td>16.2</td>\n",
       "    </tr>\n",
       "  </tbody>\n",
       "</table>\n",
       "</div>"
      ],
      "text/plain": [
       "   State  Month  Year  Unemployment Rate\n",
       "44    NY  April  2020               16.2"
      ]
     },
     "execution_count": 26,
     "metadata": {},
     "output_type": "execute_result"
    }
   ],
   "source": [
    "unemployment.loc[unemployment['State']=='NY'].sort_values(by = 'Unemployment Rate', ascending=False).head(1)"
   ]
  },
  {
   "cell_type": "code",
   "execution_count": 27,
   "metadata": {},
   "outputs": [
    {
     "data": {
      "text/html": [
       "<div>\n",
       "<style scoped>\n",
       "    .dataframe tbody tr th:only-of-type {\n",
       "        vertical-align: middle;\n",
       "    }\n",
       "\n",
       "    .dataframe tbody tr th {\n",
       "        vertical-align: top;\n",
       "    }\n",
       "\n",
       "    .dataframe thead th {\n",
       "        text-align: right;\n",
       "    }\n",
       "</style>\n",
       "<table border=\"1\" class=\"dataframe\">\n",
       "  <thead>\n",
       "    <tr style=\"text-align: right;\">\n",
       "      <th></th>\n",
       "      <th>State</th>\n",
       "      <th>Month</th>\n",
       "      <th>Year</th>\n",
       "      <th>Unemployment Rate</th>\n",
       "    </tr>\n",
       "  </thead>\n",
       "  <tbody>\n",
       "    <tr>\n",
       "      <th>15</th>\n",
       "      <td>PA</td>\n",
       "      <td>April</td>\n",
       "      <td>2020</td>\n",
       "      <td>16.2</td>\n",
       "    </tr>\n",
       "  </tbody>\n",
       "</table>\n",
       "</div>"
      ],
      "text/plain": [
       "   State  Month  Year  Unemployment Rate\n",
       "15    PA  April  2020               16.2"
      ]
     },
     "execution_count": 27,
     "metadata": {},
     "output_type": "execute_result"
    }
   ],
   "source": [
    "unemployment.loc[unemployment['State']=='PA'].sort_values(by = 'Unemployment Rate', ascending=False).head(1)"
   ]
  },
  {
   "cell_type": "code",
   "execution_count": 28,
   "metadata": {
    "scrolled": false
   },
   "outputs": [
    {
     "data": {
      "text/plain": [
       "State\n",
       "NJ    6.793103\n",
       "NY    6.971429\n",
       "PA    7.203448\n",
       "Name: Unemployment Rate, dtype: float64"
      ]
     },
     "execution_count": 28,
     "metadata": {},
     "output_type": "execute_result"
    }
   ],
   "source": [
    "#Calculate the state with the highest unemployment rate\n",
    "\n",
    "#highest_rate = unemployment.groupby('State').max()\n",
    "\n",
    "unemployment.groupby('State').mean()['Unemployment Rate']\n"
   ]
  },
  {
   "cell_type": "code",
   "execution_count": 29,
   "metadata": {
    "scrolled": true
   },
   "outputs": [
    {
     "data": {
      "text/html": [
       "<div>\n",
       "<style scoped>\n",
       "    .dataframe tbody tr th:only-of-type {\n",
       "        vertical-align: middle;\n",
       "    }\n",
       "\n",
       "    .dataframe tbody tr th {\n",
       "        vertical-align: top;\n",
       "    }\n",
       "\n",
       "    .dataframe thead th {\n",
       "        text-align: right;\n",
       "    }\n",
       "</style>\n",
       "<table border=\"1\" class=\"dataframe\">\n",
       "  <thead>\n",
       "    <tr style=\"text-align: right;\">\n",
       "      <th></th>\n",
       "      <th>State</th>\n",
       "      <th>Month</th>\n",
       "      <th>Unemployment Rate</th>\n",
       "    </tr>\n",
       "    <tr>\n",
       "      <th>Year</th>\n",
       "      <th></th>\n",
       "      <th></th>\n",
       "      <th></th>\n",
       "    </tr>\n",
       "  </thead>\n",
       "  <tbody>\n",
       "    <tr>\n",
       "      <th>2019</th>\n",
       "      <td>PA</td>\n",
       "      <td>September</td>\n",
       "      <td>4.0</td>\n",
       "    </tr>\n",
       "    <tr>\n",
       "      <th>2020</th>\n",
       "      <td>PA</td>\n",
       "      <td>September</td>\n",
       "      <td>16.5</td>\n",
       "    </tr>\n",
       "    <tr>\n",
       "      <th>2021</th>\n",
       "      <td>PA</td>\n",
       "      <td>May</td>\n",
       "      <td>8.9</td>\n",
       "    </tr>\n",
       "  </tbody>\n",
       "</table>\n",
       "</div>"
      ],
      "text/plain": [
       "     State      Month  Unemployment Rate\n",
       "Year                                    \n",
       "2019    PA  September                4.0\n",
       "2020    PA  September               16.5\n",
       "2021    PA        May                8.9"
      ]
     },
     "execution_count": 29,
     "metadata": {},
     "output_type": "execute_result"
    }
   ],
   "source": [
    "#My variable =\\\n",
    "unemployment.groupby('Year').max()"
   ]
  },
  {
   "cell_type": "code",
   "execution_count": 30,
   "metadata": {},
   "outputs": [
    {
     "data": {
      "text/plain": [
       "3.4250000000000003"
      ]
     },
     "execution_count": 30,
     "metadata": {},
     "output_type": "execute_result"
    }
   ],
   "source": [
    "#Get the mean of NJ 2019 build the df\n",
    "\n",
    "nj_2019=[3.6,\n",
    "3.5,\n",
    "3.4,\n",
    "3.3,\n",
    "3.2,\n",
    "3.2,\n",
    "3.3,\n",
    "3.4,\n",
    "3.5,\n",
    "3.5,\n",
    "3.6,\n",
    "3.6\n",
    "]\n",
    "nj_2019= np.mean(nj_2019)\n",
    "nj_2019"
   ]
  },
  {
   "cell_type": "code",
   "execution_count": 31,
   "metadata": {},
   "outputs": [
    {
     "data": {
      "text/plain": [
       "9.833333333333334"
      ]
     },
     "execution_count": 31,
     "metadata": {},
     "output_type": "execute_result"
    }
   ],
   "source": [
    "#Get the mean of NJ 2020\n",
    "\n",
    "nj_2020=[3.7,\n",
    "3.7,\n",
    "3.8,\n",
    "16.5,\n",
    "16.5,\n",
    "16.3,\n",
    "13.1,\n",
    "11.0,\n",
    "7.8,\n",
    "7.7,\n",
    "10.2,\n",
    "7.7\n",
    "]\n",
    "nj_2020=np.mean(nj_2020)\n",
    "nj_2020"
   ]
  },
  {
   "cell_type": "code",
   "execution_count": 32,
   "metadata": {},
   "outputs": [
    {
     "data": {
      "text/plain": [
       "7.58"
      ]
     },
     "execution_count": 32,
     "metadata": {},
     "output_type": "execute_result"
    }
   ],
   "source": [
    "#Get the mean of NJ 2021\n",
    "\n",
    "nj_2021=[7.8,\n",
    "7.8,\n",
    "7.6,\n",
    "7.5,\n",
    "7.2]\n",
    "nj_2021=np.mean(nj_2021)\n",
    "nj_2021"
   ]
  },
  {
   "cell_type": "code",
   "execution_count": 33,
   "metadata": {},
   "outputs": [
    {
     "data": {
      "text/plain": [
       "6.316666666666666"
      ]
     },
     "execution_count": 33,
     "metadata": {},
     "output_type": "execute_result"
    }
   ],
   "source": [
    "#Find the mean of NY 2019\n",
    "ny_2019=[34,\n",
    "3.9,\n",
    "3.9,\n",
    "3.8,\n",
    "3.8,\n",
    "3.8,\n",
    "3.8,\n",
    "3.8,\n",
    "3.8,\n",
    "3.8,\n",
    "3.7,\n",
    "3.7       \n",
    "\n",
    "]\n",
    "ny_2019= np.mean(ny_2019)\n",
    "ny_2019\n"
   ]
  },
  {
   "cell_type": "code",
   "execution_count": 34,
   "metadata": {},
   "outputs": [
    {
     "data": {
      "text/plain": [
       "9.754545454545454"
      ]
     },
     "execution_count": 34,
     "metadata": {},
     "output_type": "execute_result"
    }
   ],
   "source": [
    "#Find the mean of NY 2020\n",
    "ny_2020=[3.8,\n",
    "3.9,\n",
    "3.9,\n",
    "16.2,\n",
    "15.7,\n",
    "15.0,\n",
    "14.7,\n",
    "11.7,\n",
    "10.0,\n",
    "8.7,\n",
    "3.7\n",
    "]\n",
    "ny_2020=np.mean(ny_2020)\n",
    "ny_2020"
   ]
  },
  {
   "cell_type": "code",
   "execution_count": 35,
   "metadata": {},
   "outputs": [
    {
     "data": {
      "text/plain": [
       "8.419999999999998"
      ]
     },
     "execution_count": 35,
     "metadata": {},
     "output_type": "execute_result"
    }
   ],
   "source": [
    "#Find the mean of NY 2021\n",
    "ny_2021=[8.8,\n",
    "8.9,\n",
    "8.4,\n",
    "8.2,\n",
    "7.8\n",
    "]\n",
    "ny_2021=np.mean(ny_2021)\n",
    "ny_2021"
   ]
  },
  {
   "cell_type": "code",
   "execution_count": 36,
   "metadata": {},
   "outputs": [
    {
     "data": {
      "text/plain": [
       "3.8000000000000003"
      ]
     },
     "execution_count": 36,
     "metadata": {},
     "output_type": "execute_result"
    }
   ],
   "source": [
    "#Find the mean of PA 2019\n",
    "pa_2019=[3.9,\n",
    "3.9,\n",
    "3.8,\n",
    "3.8,\n",
    "3.8,\n",
    "3.8,\n",
    "3.8,\n",
    "3.8,\n",
    "3.8,\n",
    "3.7,\n",
    "3.7\n",
    "]\n",
    "pa_2019=np.mean(pa_2019)\n",
    "pa_2019"
   ]
  },
  {
   "cell_type": "code",
   "execution_count": 37,
   "metadata": {},
   "outputs": [
    {
     "data": {
      "text/plain": [
       "10.209090909090909"
      ]
     },
     "execution_count": 37,
     "metadata": {},
     "output_type": "execute_result"
    }
   ],
   "source": [
    "#Find the mean of PA 2020\n",
    "\n",
    "pa_2020=[3.8,\n",
    "3.9,\n",
    "3.9,\n",
    "16.2,\n",
    "15.7,\n",
    "15.0,\n",
    "14.7,\n",
    "11.7,\n",
    "10.0,\n",
    "8.7,\n",
    "8.7\n",
    "]\n",
    "pa_2020=np.mean(pa_2020)\n",
    "pa_2020"
   ]
  },
  {
   "cell_type": "code",
   "execution_count": 38,
   "metadata": {},
   "outputs": [
    {
     "data": {
      "text/plain": [
       "8.419999999999998"
      ]
     },
     "execution_count": 38,
     "metadata": {},
     "output_type": "execute_result"
    }
   ],
   "source": [
    "#Find the mean of PA 2021\n",
    "\n",
    "pa_2021=[8.8,\n",
    "8.9,\n",
    "8.4,\n",
    "8.2,\n",
    "7.8,\n",
    "\n",
    "]\n",
    "pa_2021=np.mean(pa_2021)\n",
    "pa_2021"
   ]
  },
  {
   "cell_type": "code",
   "execution_count": 39,
   "metadata": {},
   "outputs": [
    {
     "data": {
      "text/html": [
       "<div>\n",
       "<style scoped>\n",
       "    .dataframe tbody tr th:only-of-type {\n",
       "        vertical-align: middle;\n",
       "    }\n",
       "\n",
       "    .dataframe tbody tr th {\n",
       "        vertical-align: top;\n",
       "    }\n",
       "\n",
       "    .dataframe thead th {\n",
       "        text-align: right;\n",
       "    }\n",
       "</style>\n",
       "<table border=\"1\" class=\"dataframe\">\n",
       "  <thead>\n",
       "    <tr style=\"text-align: right;\">\n",
       "      <th></th>\n",
       "      <th>NJ_2019</th>\n",
       "      <th>PA_2019</th>\n",
       "      <th>NY_2019</th>\n",
       "      <th>NJ_2020</th>\n",
       "      <th>NY_2020</th>\n",
       "      <th>PA_2020</th>\n",
       "      <th>NJ_2021</th>\n",
       "      <th>PA_2021</th>\n",
       "      <th>NY_2021</th>\n",
       "    </tr>\n",
       "  </thead>\n",
       "  <tbody>\n",
       "    <tr>\n",
       "      <th>Unemployment Rate</th>\n",
       "      <td>3.425</td>\n",
       "      <td>3.8</td>\n",
       "      <td>6.316667</td>\n",
       "      <td>9.833333</td>\n",
       "      <td>9.754545</td>\n",
       "      <td>10.209091</td>\n",
       "      <td>7.58</td>\n",
       "      <td>8.42</td>\n",
       "      <td>8.42</td>\n",
       "    </tr>\n",
       "  </tbody>\n",
       "</table>\n",
       "</div>"
      ],
      "text/plain": [
       "                   NJ_2019  PA_2019   NY_2019   NJ_2020   NY_2020    PA_2020  \\\n",
       "Unemployment Rate    3.425      3.8  6.316667  9.833333  9.754545  10.209091   \n",
       "\n",
       "                   NJ_2021  PA_2021  NY_2021  \n",
       "Unemployment Rate     7.58     8.42     8.42  "
      ]
     },
     "execution_count": 39,
     "metadata": {},
     "output_type": "execute_result"
    }
   ],
   "source": [
    "te_df=pd.DataFrame({\"NJ_2019\":nj_2019, \"PA_2019\":pa_2019, \"NY_2019\":ny_2019, \"NJ_2020\":nj_2020, \"NY_2020\":ny_2020, \"PA_2020\":pa_2020,\n",
    "                    \"NJ_2021\":nj_2021, \"PA_2021\":pa_2021, \"NY_2021\":ny_2021}, index=[\"Unemployment Rate\"])\n",
    "te_df"
   ]
  },
  {
   "cell_type": "code",
   "execution_count": 40,
   "metadata": {},
   "outputs": [
    {
     "data": {
      "text/html": [
       "<div>\n",
       "<style scoped>\n",
       "    .dataframe tbody tr th:only-of-type {\n",
       "        vertical-align: middle;\n",
       "    }\n",
       "\n",
       "    .dataframe tbody tr th {\n",
       "        vertical-align: top;\n",
       "    }\n",
       "\n",
       "    .dataframe thead th {\n",
       "        text-align: right;\n",
       "    }\n",
       "</style>\n",
       "<table border=\"1\" class=\"dataframe\">\n",
       "  <thead>\n",
       "    <tr style=\"text-align: right;\">\n",
       "      <th></th>\n",
       "      <th>NJ_2019</th>\n",
       "      <th>PA_2019</th>\n",
       "      <th>NY_2019</th>\n",
       "      <th>NJ_2020</th>\n",
       "      <th>NY_2020</th>\n",
       "      <th>PA_2020</th>\n",
       "      <th>NJ_2021</th>\n",
       "      <th>NY_2021</th>\n",
       "      <th>PA_2021</th>\n",
       "    </tr>\n",
       "  </thead>\n",
       "  <tbody>\n",
       "    <tr>\n",
       "      <th>State</th>\n",
       "      <td>3.425</td>\n",
       "      <td>3.8</td>\n",
       "      <td>6.316667</td>\n",
       "      <td>9.833333</td>\n",
       "      <td>9.754545</td>\n",
       "      <td>10.209091</td>\n",
       "      <td>7.58</td>\n",
       "      <td>8.42</td>\n",
       "      <td>8.42</td>\n",
       "    </tr>\n",
       "  </tbody>\n",
       "</table>\n",
       "</div>"
      ],
      "text/plain": [
       "       NJ_2019  PA_2019   NY_2019   NJ_2020   NY_2020    PA_2020  NJ_2021  \\\n",
       "State    3.425      3.8  6.316667  9.833333  9.754545  10.209091     7.58   \n",
       "\n",
       "       NY_2021  PA_2021  \n",
       "State     8.42     8.42  "
      ]
     },
     "execution_count": 40,
     "metadata": {},
     "output_type": "execute_result"
    }
   ],
   "source": [
    "state_df=pd.DataFrame({'NJ_2019':nj_2019, 'PA_2019':pa_2019, 'NY_2019':ny_2019, 'NJ_2020': nj_2020, 'NY_2020': ny_2020, \n",
    "                       'PA_2020': pa_2020, 'NJ_2021':nj_2021, 'NY_2021':ny_2021, 'PA_2021':pa_2021 }, index = [\"State\"])\n",
    "state_df"
   ]
  },
  {
   "cell_type": "code",
   "execution_count": 41,
   "metadata": {},
   "outputs": [
    {
     "data": {
      "text/html": [
       "<div>\n",
       "<style scoped>\n",
       "    .dataframe tbody tr th:only-of-type {\n",
       "        vertical-align: middle;\n",
       "    }\n",
       "\n",
       "    .dataframe tbody tr th {\n",
       "        vertical-align: top;\n",
       "    }\n",
       "\n",
       "    .dataframe thead th {\n",
       "        text-align: right;\n",
       "    }\n",
       "</style>\n",
       "<table border=\"1\" class=\"dataframe\">\n",
       "  <thead>\n",
       "    <tr style=\"text-align: right;\">\n",
       "      <th></th>\n",
       "      <th>State</th>\n",
       "    </tr>\n",
       "    <tr>\n",
       "      <th>Unemployment Rates</th>\n",
       "      <th></th>\n",
       "    </tr>\n",
       "  </thead>\n",
       "  <tbody>\n",
       "    <tr>\n",
       "      <th>NJ_2019</th>\n",
       "      <td>3.425000</td>\n",
       "    </tr>\n",
       "    <tr>\n",
       "      <th>PA_2019</th>\n",
       "      <td>3.800000</td>\n",
       "    </tr>\n",
       "    <tr>\n",
       "      <th>NY_2019</th>\n",
       "      <td>6.316667</td>\n",
       "    </tr>\n",
       "    <tr>\n",
       "      <th>NJ_2020</th>\n",
       "      <td>9.833333</td>\n",
       "    </tr>\n",
       "    <tr>\n",
       "      <th>NY_2020</th>\n",
       "      <td>9.754545</td>\n",
       "    </tr>\n",
       "    <tr>\n",
       "      <th>PA_2020</th>\n",
       "      <td>10.209091</td>\n",
       "    </tr>\n",
       "    <tr>\n",
       "      <th>NJ_2021</th>\n",
       "      <td>7.580000</td>\n",
       "    </tr>\n",
       "    <tr>\n",
       "      <th>NY_2021</th>\n",
       "      <td>8.420000</td>\n",
       "    </tr>\n",
       "    <tr>\n",
       "      <th>PA_2021</th>\n",
       "      <td>8.420000</td>\n",
       "    </tr>\n",
       "  </tbody>\n",
       "</table>\n",
       "</div>"
      ],
      "text/plain": [
       "                        State\n",
       "Unemployment Rates           \n",
       "NJ_2019              3.425000\n",
       "PA_2019              3.800000\n",
       "NY_2019              6.316667\n",
       "NJ_2020              9.833333\n",
       "NY_2020              9.754545\n",
       "PA_2020             10.209091\n",
       "NJ_2021              7.580000\n",
       "NY_2021              8.420000\n",
       "PA_2021              8.420000"
      ]
     },
     "execution_count": 41,
     "metadata": {},
     "output_type": "execute_result"
    }
   ],
   "source": [
    "state_df_transposed=state_df.T\n",
    "state_df_transposed.index.name=\"Unemployment Rates\"\n",
    "state_df_transposed"
   ]
  },
  {
   "cell_type": "code",
   "execution_count": 42,
   "metadata": {},
   "outputs": [
    {
     "data": {
      "image/png": "[encoded data removed]",
      "text/plain": [
       "<Figure size 432x288 with 1 Axes>"
      ]
     },
     "metadata": {
      "needs_background": "light"
     },
     "output_type": "display_data"
    }
   ],
   "source": [
    "state_df_transposed.plot(kind=\"bar\")\n",
    "plt.title(\"Average Unemployment Rates for NJ, NY, PA\")\n",
    "plt.ylabel(\"Unemployment Rates\")\n",
    "plt.xlabel(\"State by Year\")\n",
    "plt.savefig(\"Images/MB/TristatesRates.png\")\n",
    "plt.show()"
   ]
  },
  {
   "cell_type": "code",
   "execution_count": 43,
   "metadata": {
    "scrolled": true
   },
   "outputs": [
    {
     "data": {
      "image/png": "[encoded data removed]",
      "text/plain": [
       "<Figure size 432x288 with 1 Axes>"
      ]
     },
     "metadata": {
      "needs_background": "light"
     },
     "output_type": "display_data"
    }
   ],
   "source": [
    "#Plot PA data\n",
    "\n",
    "pa_df=pd.DataFrame({'PA_2019': pa_2019, 'PA_2020':pa_2020, 'PA_2021':pa_2021}, index = [0]) \n",
    "pa_df\n",
    "\n",
    "ax = pa_df.plot.bar(rot=0)"
   ]
  },
  {
   "cell_type": "code",
   "execution_count": 44,
   "metadata": {
    "scrolled": true
   },
   "outputs": [
    {
     "data": {
      "image/png": "[encoded data removed]",
      "text/plain": [
       "<Figure size 720x576 with 1 Axes>"
      ]
     },
     "metadata": {
      "needs_background": "light"
     },
     "output_type": "display_data"
    }
   ],
   "source": [
    "state_df=pd.DataFrame({'NJ_2019':nj_2019, 'PA_2019':pa_2019, 'NY_2019':ny_2019, 'NJ_2020': nj_2020, 'NY_2020': ny_2020, \n",
    "                       'PA_2020': pa_2020, 'NJ_2021':nj_2021, 'NY_2021':ny_2021, 'PA_2021':pa_2021 }, index = [\"State\"])\n",
    "state_df\n",
    "\n",
    "state_df.head(10).plot(kind='bar', figsize=(10,8))\n",
    "plt.title(\"Average Unemployment Rates for NJ, NY, PA\")\n",
    "plt.ylabel(\"Unemployment Rates\")\n",
    "plt.xlabel(\"Months\")\n",
    "#plt.x_axis[\"Unemployment Rates\"]\n",
    "#plt.xticks(state_df)\n",
    "plt.savefig(\"Images/MB/AvgRates.png\")\n",
    "plt.show()\n",
    "\n",
    "\n"
   ]
  },
  {
   "cell_type": "code",
   "execution_count": 45,
   "metadata": {
    "scrolled": false
   },
   "outputs": [
    {
     "data": {
      "image/png": "[encoded data removed]",
      "text/plain": [
       "<Figure size 432x288 with 1 Axes>"
      ]
     },
     "metadata": {
      "needs_background": "light"
     },
     "output_type": "display_data"
    }
   ],
   "source": [
    "new_df = \\\n",
    "unemployment.sort_values(by = 'Unemployment Rate', ascending=False).groupby(['State']).first()\n",
    "new_df['Unemployment Rate'].plot(kind=\"barh\")\n",
    "plt.title(\"Max Unemployment Rate by State\")\n",
    "plt.ylabel(\"States in Study\")\n",
    "plt.xlabel(\"Unemployment Rate %\")\n",
    "plt.savefig(\"Images/MB/MaxUN.png\")"
   ]
  },
  {
   "cell_type": "code",
   "execution_count": 46,
   "metadata": {},
   "outputs": [
    {
     "name": "stdout",
     "output_type": "stream",
     "text": [
      "              Year  Unemployment Rate\n",
      "count    86.000000          86.000000\n",
      "mean   2019.755814           6.989535\n",
      "std       0.734623           4.194591\n",
      "min    2019.000000           3.200000\n",
      "25%    2019.000000           3.800000\n",
      "50%    2020.000000           3.900000\n",
      "75%    2020.000000           8.775000\n",
      "max    2021.000000          16.500000\n"
     ]
    }
   ],
   "source": [
    "#unemployment=[unemployment[\"State\"]=='NJ'].mean()\n",
    "\n",
    "print(unemployment.describe())"
   ]
  }
 ],
 "metadata": {
  "kernelspec": {
   "display_name": "Python 3",
   "language": "python",
   "name": "python3"
  },
  "language_info": {
   "codemirror_mode": {
    "name": "ipython",
    "version": 3
   },
   "file_extension": ".py",
   "mimetype": "text/x-python",
   "name": "python",
   "nbconvert_exporter": "python",
   "pygments_lexer": "ipython3",
   "version": "3.6.10"
  }
 },
 "nbformat": 4,
 "nbformat_minor": 4
}
