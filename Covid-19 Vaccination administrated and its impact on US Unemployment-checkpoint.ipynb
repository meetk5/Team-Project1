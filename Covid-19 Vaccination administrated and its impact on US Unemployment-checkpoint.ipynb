{
 "cells": [
  {
   "cell_type": "markdown",
   "metadata": {},
   "source": [
    "##### Author: Byron Pineda\n",
    "\n",
    "####  Project 1 -  This part of the team project examined how Covid vaccinations administered had a relationship with the reduction of unemployment numbers in the US.  \n",
    "\n",
    "\n"
   ]
  },
  {
   "cell_type": "code",
   "execution_count": 59,
   "metadata": {},
   "outputs": [],
   "source": [
    "# Dependencies\n",
    "import pandas as pd\n",
    "import numpy as np\n",
    "import matplotlib.pyplot as plt\n",
    "from scipy.stats import linregress\n",
    "import scipy.stats as st\n",
    "#import matplotlib.ticker as ticker"
   ]
  },
  {
   "cell_type": "code",
   "execution_count": 62,
   "metadata": {},
   "outputs": [],
   "source": [
    "# Names of the CSV file used for this analysis.\n",
    "vac_admin = 'Data_Vaccs_Unemp/Covid Administered Vaccinations in US and States remediated file.csv'\n",
    "unempl = 'Data_Vaccs_Unemp/unemployment rate in US.csv'"
   ]
  },
  {
   "cell_type": "code",
   "execution_count": 64,
   "metadata": {},
   "outputs": [],
   "source": [
    "vacc_admin_us = pd.read_csv(vac_admin)\n",
    "unempl_us = pd.read_csv(unempl)"
   ]
  },
  {
   "cell_type": "markdown",
   "metadata": {},
   "source": [
    "The vaccination file from the CDC required a tremendous amount of cleanup. Excel was used to study the file, build PivotTables and charts, in order to determine how government totals were given. Those vaccination records were based on their Morbid and Mortality Weekly Reports collection. Their week starts on Sunday and ends on Saturday. Those records had to be reconcilled to a monthly basis for our other reporting data from BLS which uses monthly totals.  The file was remediated from almost 14,000 records to about 250 records. "
   ]
  },
  {
   "cell_type": "code",
   "execution_count": 65,
   "metadata": {},
   "outputs": [
    {
     "data": {
      "text/html": [
       "<div>\n",
       "<style scoped>\n",
       "    .dataframe tbody tr th:only-of-type {\n",
       "        vertical-align: middle;\n",
       "    }\n",
       "\n",
       "    .dataframe tbody tr th {\n",
       "        vertical-align: top;\n",
       "    }\n",
       "\n",
       "    .dataframe thead th {\n",
       "        text-align: right;\n",
       "    }\n",
       "</style>\n",
       "<table border=\"1\" class=\"dataframe\">\n",
       "  <thead>\n",
       "    <tr style=\"text-align: right;\">\n",
       "      <th></th>\n",
       "      <th>mm-yyyy</th>\n",
       "      <th>mm/yyyy</th>\n",
       "      <th>yyyy-mm</th>\n",
       "      <th>mmm_yyyy</th>\n",
       "      <th>Date</th>\n",
       "      <th>Location</th>\n",
       "      <th>Covid_Vacs_Administered</th>\n",
       "      <th>Covid_Vacs_Administered (In thousands)</th>\n",
       "      <th>Covid_Vacs_Administered (in millions)</th>\n",
       "      <th>MMWR_week</th>\n",
       "    </tr>\n",
       "  </thead>\n",
       "  <tbody>\n",
       "    <tr>\n",
       "      <th>0</th>\n",
       "      <td>12-2020</td>\n",
       "      <td>12/2020</td>\n",
       "      <td>2020/12</td>\n",
       "      <td>Dec-2020</td>\n",
       "      <td>12/31/2020</td>\n",
       "      <td>AK</td>\n",
       "      <td>14550</td>\n",
       "      <td>14.55</td>\n",
       "      <td>0.01</td>\n",
       "      <td>53</td>\n",
       "    </tr>\n",
       "    <tr>\n",
       "      <th>1</th>\n",
       "      <td>01-2021</td>\n",
       "      <td>01/2021</td>\n",
       "      <td>2021/01</td>\n",
       "      <td>Jan-2021</td>\n",
       "      <td>1/31/2021</td>\n",
       "      <td>AK</td>\n",
       "      <td>119590</td>\n",
       "      <td>119.59</td>\n",
       "      <td>0.12</td>\n",
       "      <td>5</td>\n",
       "    </tr>\n",
       "    <tr>\n",
       "      <th>2</th>\n",
       "      <td>02-2021</td>\n",
       "      <td>02/2021</td>\n",
       "      <td>2021/02</td>\n",
       "      <td>Feb-2021</td>\n",
       "      <td>2/28/2021</td>\n",
       "      <td>AK</td>\n",
       "      <td>264741</td>\n",
       "      <td>264.74</td>\n",
       "      <td>0.26</td>\n",
       "      <td>9</td>\n",
       "    </tr>\n",
       "    <tr>\n",
       "      <th>3</th>\n",
       "      <td>03-2021</td>\n",
       "      <td>03/2021</td>\n",
       "      <td>2021/03</td>\n",
       "      <td>Mar-2021</td>\n",
       "      <td>3/31/2021</td>\n",
       "      <td>AK</td>\n",
       "      <td>407233</td>\n",
       "      <td>407.23</td>\n",
       "      <td>0.41</td>\n",
       "      <td>13</td>\n",
       "    </tr>\n",
       "    <tr>\n",
       "      <th>4</th>\n",
       "      <td>04-2021</td>\n",
       "      <td>04/2021</td>\n",
       "      <td>2021/04</td>\n",
       "      <td>Apr-2021</td>\n",
       "      <td>4/30/2021</td>\n",
       "      <td>AK</td>\n",
       "      <td>552792</td>\n",
       "      <td>552.79</td>\n",
       "      <td>0.55</td>\n",
       "      <td>17</td>\n",
       "    </tr>\n",
       "  </tbody>\n",
       "</table>\n",
       "</div>"
      ],
      "text/plain": [
       "   mm-yyyy  mm/yyyy  yyyy-mm  mmm_yyyy        Date Location  \\\n",
       "0  12-2020  12/2020  2020/12  Dec-2020  12/31/2020       AK   \n",
       "1  01-2021  01/2021  2021/01  Jan-2021   1/31/2021       AK   \n",
       "2  02-2021  02/2021  2021/02  Feb-2021   2/28/2021       AK   \n",
       "3  03-2021  03/2021  2021/03  Mar-2021   3/31/2021       AK   \n",
       "4  04-2021  04/2021  2021/04  Apr-2021   4/30/2021       AK   \n",
       "\n",
       "   Covid_Vacs_Administered  Covid_Vacs_Administered (In thousands)  \\\n",
       "0                    14550                                   14.55   \n",
       "1                   119590                                  119.59   \n",
       "2                   264741                                  264.74   \n",
       "3                   407233                                  407.23   \n",
       "4                   552792                                  552.79   \n",
       "\n",
       "   Covid_Vacs_Administered (in millions)  MMWR_week  \n",
       "0                                   0.01         53  \n",
       "1                                   0.12          5  \n",
       "2                                   0.26          9  \n",
       "3                                   0.41         13  \n",
       "4                                   0.55         17  "
      ]
     },
     "execution_count": 65,
     "metadata": {},
     "output_type": "execute_result"
    }
   ],
   "source": [
    "vacc_admin_us.head()"
   ]
  },
  {
   "cell_type": "markdown",
   "metadata": {},
   "source": [
    "The data file had to be manually transformed in Excel and saved as a *csv file.\n"
   ]
  },
  {
   "cell_type": "code",
   "execution_count": 66,
   "metadata": {},
   "outputs": [
    {
     "data": {
      "text/html": [
       "<div>\n",
       "<style scoped>\n",
       "    .dataframe tbody tr th:only-of-type {\n",
       "        vertical-align: middle;\n",
       "    }\n",
       "\n",
       "    .dataframe tbody tr th {\n",
       "        vertical-align: top;\n",
       "    }\n",
       "\n",
       "    .dataframe thead th {\n",
       "        text-align: right;\n",
       "    }\n",
       "</style>\n",
       "<table border=\"1\" class=\"dataframe\">\n",
       "  <thead>\n",
       "    <tr style=\"text-align: right;\">\n",
       "      <th></th>\n",
       "      <th>Month Year</th>\n",
       "      <th>Unemployment Rate US</th>\n",
       "    </tr>\n",
       "  </thead>\n",
       "  <tbody>\n",
       "    <tr>\n",
       "      <th>0</th>\n",
       "      <td>Jan-20</td>\n",
       "      <td>3.5</td>\n",
       "    </tr>\n",
       "    <tr>\n",
       "      <th>1</th>\n",
       "      <td>Feb-20</td>\n",
       "      <td>3.5</td>\n",
       "    </tr>\n",
       "    <tr>\n",
       "      <th>2</th>\n",
       "      <td>Mar-20</td>\n",
       "      <td>4.4</td>\n",
       "    </tr>\n",
       "    <tr>\n",
       "      <th>3</th>\n",
       "      <td>Apr-20</td>\n",
       "      <td>14.8</td>\n",
       "    </tr>\n",
       "    <tr>\n",
       "      <th>4</th>\n",
       "      <td>May-20</td>\n",
       "      <td>13.3</td>\n",
       "    </tr>\n",
       "  </tbody>\n",
       "</table>\n",
       "</div>"
      ],
      "text/plain": [
       "  Month Year  Unemployment Rate US\n",
       "0     Jan-20                   3.5\n",
       "1     Feb-20                   3.5\n",
       "2     Mar-20                   4.4\n",
       "3     Apr-20                  14.8\n",
       "4     May-20                  13.3"
      ]
     },
     "execution_count": 66,
     "metadata": {},
     "output_type": "execute_result"
    }
   ],
   "source": [
    "unempl_us.head()"
   ]
  },
  {
   "cell_type": "code",
   "execution_count": 67,
   "metadata": {},
   "outputs": [],
   "source": [
    "x_axis2 = unempl_us[\"Month Year\"] "
   ]
  },
  {
   "cell_type": "code",
   "execution_count": 68,
   "metadata": {},
   "outputs": [],
   "source": [
    "y_axis2 = unempl_us[\"Unemployment Rate US\"]"
   ]
  },
  {
   "cell_type": "code",
   "execution_count": 69,
   "metadata": {},
   "outputs": [
    {
     "data": {
      "image/png": "[encoded data removed]",
      "text/plain": [
       "<Figure size 720x504 with 1 Axes>"
      ]
     },
     "metadata": {
      "needs_background": "light"
     },
     "output_type": "display_data"
    },
    {
     "data": {
      "text/plain": [
       "<Figure size 432x288 with 0 Axes>"
      ]
     },
     "metadata": {},
     "output_type": "display_data"
    }
   ],
   "source": [
    "plt.subplots(figsize=(10,7))\n",
    "plt.plot(x_axis2,y_axis2)\n",
    "plt.title(\"Unemployment Rates in US\", fontsize=12)\n",
    "plt.ylabel(\"Unemployment Rate\", fontsize=10)\n",
    "plt.xticks(fontsize=10, rotation='25')\n",
    "\n",
    "#plt.legend()\n",
    "plt.show()\n",
    "plt.tight_layout()"
   ]
  },
  {
   "cell_type": "code",
   "execution_count": 70,
   "metadata": {},
   "outputs": [
    {
     "data": {
      "text/html": [
       "<div>\n",
       "<style scoped>\n",
       "    .dataframe tbody tr th:only-of-type {\n",
       "        vertical-align: middle;\n",
       "    }\n",
       "\n",
       "    .dataframe tbody tr th {\n",
       "        vertical-align: top;\n",
       "    }\n",
       "\n",
       "    .dataframe thead th {\n",
       "        text-align: right;\n",
       "    }\n",
       "</style>\n",
       "<table border=\"1\" class=\"dataframe\">\n",
       "  <thead>\n",
       "    <tr style=\"text-align: right;\">\n",
       "      <th></th>\n",
       "      <th>mm-yyyy</th>\n",
       "      <th>mm/yyyy</th>\n",
       "      <th>yyyy-mm</th>\n",
       "      <th>mmm_yyyy</th>\n",
       "      <th>Date</th>\n",
       "      <th>Location</th>\n",
       "      <th>Covid_Vacs_Administered</th>\n",
       "      <th>Covid_Vacs_Administered (In thousands)</th>\n",
       "      <th>Covid_Vacs_Administered (in millions)</th>\n",
       "      <th>MMWR_week</th>\n",
       "    </tr>\n",
       "  </thead>\n",
       "  <tbody>\n",
       "    <tr>\n",
       "      <th>0</th>\n",
       "      <td>12-2020</td>\n",
       "      <td>12/2020</td>\n",
       "      <td>2020/12</td>\n",
       "      <td>Dec-2020</td>\n",
       "      <td>12/31/2020</td>\n",
       "      <td>AK</td>\n",
       "      <td>14550</td>\n",
       "      <td>14.55</td>\n",
       "      <td>0.01</td>\n",
       "      <td>53</td>\n",
       "    </tr>\n",
       "    <tr>\n",
       "      <th>1</th>\n",
       "      <td>01-2021</td>\n",
       "      <td>01/2021</td>\n",
       "      <td>2021/01</td>\n",
       "      <td>Jan-2021</td>\n",
       "      <td>1/31/2021</td>\n",
       "      <td>AK</td>\n",
       "      <td>119590</td>\n",
       "      <td>119.59</td>\n",
       "      <td>0.12</td>\n",
       "      <td>5</td>\n",
       "    </tr>\n",
       "    <tr>\n",
       "      <th>2</th>\n",
       "      <td>02-2021</td>\n",
       "      <td>02/2021</td>\n",
       "      <td>2021/02</td>\n",
       "      <td>Feb-2021</td>\n",
       "      <td>2/28/2021</td>\n",
       "      <td>AK</td>\n",
       "      <td>264741</td>\n",
       "      <td>264.74</td>\n",
       "      <td>0.26</td>\n",
       "      <td>9</td>\n",
       "    </tr>\n",
       "    <tr>\n",
       "      <th>3</th>\n",
       "      <td>03-2021</td>\n",
       "      <td>03/2021</td>\n",
       "      <td>2021/03</td>\n",
       "      <td>Mar-2021</td>\n",
       "      <td>3/31/2021</td>\n",
       "      <td>AK</td>\n",
       "      <td>407233</td>\n",
       "      <td>407.23</td>\n",
       "      <td>0.41</td>\n",
       "      <td>13</td>\n",
       "    </tr>\n",
       "    <tr>\n",
       "      <th>4</th>\n",
       "      <td>04-2021</td>\n",
       "      <td>04/2021</td>\n",
       "      <td>2021/04</td>\n",
       "      <td>Apr-2021</td>\n",
       "      <td>4/30/2021</td>\n",
       "      <td>AK</td>\n",
       "      <td>552792</td>\n",
       "      <td>552.79</td>\n",
       "      <td>0.55</td>\n",
       "      <td>17</td>\n",
       "    </tr>\n",
       "  </tbody>\n",
       "</table>\n",
       "</div>"
      ],
      "text/plain": [
       "   mm-yyyy  mm/yyyy  yyyy-mm  mmm_yyyy        Date Location  \\\n",
       "0  12-2020  12/2020  2020/12  Dec-2020  12/31/2020       AK   \n",
       "1  01-2021  01/2021  2021/01  Jan-2021   1/31/2021       AK   \n",
       "2  02-2021  02/2021  2021/02  Feb-2021   2/28/2021       AK   \n",
       "3  03-2021  03/2021  2021/03  Mar-2021   3/31/2021       AK   \n",
       "4  04-2021  04/2021  2021/04  Apr-2021   4/30/2021       AK   \n",
       "\n",
       "   Covid_Vacs_Administered  Covid_Vacs_Administered (In thousands)  \\\n",
       "0                    14550                                   14.55   \n",
       "1                   119590                                  119.59   \n",
       "2                   264741                                  264.74   \n",
       "3                   407233                                  407.23   \n",
       "4                   552792                                  552.79   \n",
       "\n",
       "   Covid_Vacs_Administered (in millions)  MMWR_week  \n",
       "0                                   0.01         53  \n",
       "1                                   0.12          5  \n",
       "2                                   0.26          9  \n",
       "3                                   0.41         13  \n",
       "4                                   0.55         17  "
      ]
     },
     "execution_count": 70,
     "metadata": {},
     "output_type": "execute_result"
    }
   ],
   "source": [
    "vacc_admin_us.head()"
   ]
  },
  {
   "cell_type": "code",
   "execution_count": 71,
   "metadata": {},
   "outputs": [
    {
     "data": {
      "text/html": [
       "<div>\n",
       "<style scoped>\n",
       "    .dataframe tbody tr th:only-of-type {\n",
       "        vertical-align: middle;\n",
       "    }\n",
       "\n",
       "    .dataframe tbody tr th {\n",
       "        vertical-align: top;\n",
       "    }\n",
       "\n",
       "    .dataframe thead th {\n",
       "        text-align: right;\n",
       "    }\n",
       "</style>\n",
       "<table border=\"1\" class=\"dataframe\">\n",
       "  <thead>\n",
       "    <tr style=\"text-align: right;\">\n",
       "      <th></th>\n",
       "      <th>mm-yyyy</th>\n",
       "      <th>mm/yyyy</th>\n",
       "      <th>yyyy-mm</th>\n",
       "      <th>mmm_yyyy</th>\n",
       "      <th>Date</th>\n",
       "      <th>Location</th>\n",
       "      <th>Covid_Vacs_Administered</th>\n",
       "      <th>Covid_Vacs_Administered (In thousands)</th>\n",
       "      <th>Covid_Vacs_Administered (in millions)</th>\n",
       "      <th>MMWR_week</th>\n",
       "    </tr>\n",
       "  </thead>\n",
       "  <tbody>\n",
       "    <tr>\n",
       "      <th>440</th>\n",
       "      <td>12-2020</td>\n",
       "      <td>12/2020</td>\n",
       "      <td>2020/12</td>\n",
       "      <td>Dec-2020</td>\n",
       "      <td>12/31/2020</td>\n",
       "      <td>US</td>\n",
       "      <td>3738130</td>\n",
       "      <td>3738.13</td>\n",
       "      <td>3.74</td>\n",
       "      <td>53</td>\n",
       "    </tr>\n",
       "    <tr>\n",
       "      <th>441</th>\n",
       "      <td>01-2021</td>\n",
       "      <td>01/2021</td>\n",
       "      <td>2021/01</td>\n",
       "      <td>Jan-2021</td>\n",
       "      <td>1/31/2021</td>\n",
       "      <td>US</td>\n",
       "      <td>31123299</td>\n",
       "      <td>31123.30</td>\n",
       "      <td>31.12</td>\n",
       "      <td>5</td>\n",
       "    </tr>\n",
       "    <tr>\n",
       "      <th>442</th>\n",
       "      <td>02-2021</td>\n",
       "      <td>02/2021</td>\n",
       "      <td>2021/02</td>\n",
       "      <td>Feb-2021</td>\n",
       "      <td>2/28/2021</td>\n",
       "      <td>US</td>\n",
       "      <td>75236003</td>\n",
       "      <td>75236.00</td>\n",
       "      <td>75.24</td>\n",
       "      <td>9</td>\n",
       "    </tr>\n",
       "    <tr>\n",
       "      <th>443</th>\n",
       "      <td>03-2021</td>\n",
       "      <td>03/2021</td>\n",
       "      <td>2021/03</td>\n",
       "      <td>Mar-2021</td>\n",
       "      <td>3/31/2021</td>\n",
       "      <td>US</td>\n",
       "      <td>150273292</td>\n",
       "      <td>150273.29</td>\n",
       "      <td>150.27</td>\n",
       "      <td>13</td>\n",
       "    </tr>\n",
       "    <tr>\n",
       "      <th>444</th>\n",
       "      <td>04-2021</td>\n",
       "      <td>04/2021</td>\n",
       "      <td>2021/04</td>\n",
       "      <td>Apr-2021</td>\n",
       "      <td>4/30/2021</td>\n",
       "      <td>US</td>\n",
       "      <td>240159677</td>\n",
       "      <td>240159.68</td>\n",
       "      <td>240.16</td>\n",
       "      <td>17</td>\n",
       "    </tr>\n",
       "    <tr>\n",
       "      <th>445</th>\n",
       "      <td>05-2021</td>\n",
       "      <td>05/2021</td>\n",
       "      <td>2021/05</td>\n",
       "      <td>May-2021</td>\n",
       "      <td>5/31/2021</td>\n",
       "      <td>US</td>\n",
       "      <td>295891325</td>\n",
       "      <td>295891.33</td>\n",
       "      <td>295.89</td>\n",
       "      <td>22</td>\n",
       "    </tr>\n",
       "    <tr>\n",
       "      <th>446</th>\n",
       "      <td>06-2021</td>\n",
       "      <td>06/2021</td>\n",
       "      <td>2021/06</td>\n",
       "      <td>Jun-2021</td>\n",
       "      <td>6/30/2021</td>\n",
       "      <td>US</td>\n",
       "      <td>326521526</td>\n",
       "      <td>326521.53</td>\n",
       "      <td>326.52</td>\n",
       "      <td>26</td>\n",
       "    </tr>\n",
       "    <tr>\n",
       "      <th>447</th>\n",
       "      <td>07-2021</td>\n",
       "      <td>07/2021</td>\n",
       "      <td>2021/07</td>\n",
       "      <td>Jul-2021</td>\n",
       "      <td>7/12/2021</td>\n",
       "      <td>US</td>\n",
       "      <td>334600770</td>\n",
       "      <td>334600.77</td>\n",
       "      <td>334.60</td>\n",
       "      <td>28</td>\n",
       "    </tr>\n",
       "  </tbody>\n",
       "</table>\n",
       "</div>"
      ],
      "text/plain": [
       "     mm-yyyy  mm/yyyy  yyyy-mm  mmm_yyyy        Date Location  \\\n",
       "440  12-2020  12/2020  2020/12  Dec-2020  12/31/2020       US   \n",
       "441  01-2021  01/2021  2021/01  Jan-2021   1/31/2021       US   \n",
       "442  02-2021  02/2021  2021/02  Feb-2021   2/28/2021       US   \n",
       "443  03-2021  03/2021  2021/03  Mar-2021   3/31/2021       US   \n",
       "444  04-2021  04/2021  2021/04  Apr-2021   4/30/2021       US   \n",
       "445  05-2021  05/2021  2021/05  May-2021   5/31/2021       US   \n",
       "446  06-2021  06/2021  2021/06  Jun-2021   6/30/2021       US   \n",
       "447  07-2021  07/2021  2021/07  Jul-2021   7/12/2021       US   \n",
       "\n",
       "     Covid_Vacs_Administered  Covid_Vacs_Administered (In thousands)  \\\n",
       "440                  3738130                                 3738.13   \n",
       "441                 31123299                                31123.30   \n",
       "442                 75236003                                75236.00   \n",
       "443                150273292                               150273.29   \n",
       "444                240159677                               240159.68   \n",
       "445                295891325                               295891.33   \n",
       "446                326521526                               326521.53   \n",
       "447                334600770                               334600.77   \n",
       "\n",
       "     Covid_Vacs_Administered (in millions)  MMWR_week  \n",
       "440                                   3.74         53  \n",
       "441                                  31.12          5  \n",
       "442                                  75.24          9  \n",
       "443                                 150.27         13  \n",
       "444                                 240.16         17  \n",
       "445                                 295.89         22  \n",
       "446                                 326.52         26  \n",
       "447                                 334.60         28  "
      ]
     },
     "execution_count": 71,
     "metadata": {},
     "output_type": "execute_result"
    }
   ],
   "source": [
    "us_location = vacc_admin_us.loc[vacc_admin_us[\"Location\"] == \"US\"]\n",
    "us_location.head(10)"
   ]
  },
  {
   "cell_type": "code",
   "execution_count": 72,
   "metadata": {},
   "outputs": [
    {
     "data": {
      "text/plain": [
       "440    Dec-2020\n",
       "441    Jan-2021\n",
       "442    Feb-2021\n",
       "443    Mar-2021\n",
       "444    Apr-2021\n",
       "445    May-2021\n",
       "446    Jun-2021\n",
       "447    Jul-2021\n",
       "Name: mmm_yyyy, dtype: object"
      ]
     },
     "execution_count": 72,
     "metadata": {},
     "output_type": "execute_result"
    }
   ],
   "source": [
    "x_axis1 = us_location[\"mmm_yyyy\"]\n",
    "x_axis1"
   ]
  },
  {
   "cell_type": "code",
   "execution_count": 74,
   "metadata": {},
   "outputs": [
    {
     "data": {
      "text/plain": [
       "440     0.374\n",
       "441     3.112\n",
       "442     7.524\n",
       "443    15.027\n",
       "444    24.016\n",
       "445    29.589\n",
       "446    32.652\n",
       "447    33.460\n",
       "Name: Covid_Vacs_Administered (in millions), dtype: float64"
      ]
     },
     "execution_count": 74,
     "metadata": {},
     "output_type": "execute_result"
    }
   ],
   "source": [
    "# The division by 10 indicates I am now looking at figures in\n",
    "# terms of 10 millions.  Make sure you adjust your graph and\n",
    "# other items accordingly.\n",
    "\n",
    "y_axis1 = us_location[\"Covid_Vacs_Administered (in millions)\"]/10\n",
    "y_axis1"
   ]
  },
  {
   "cell_type": "code",
   "execution_count": 75,
   "metadata": {},
   "outputs": [
    {
     "data": {
      "image/png": "[encoded data removed]",
      "text/plain": [
       "<Figure size 864x720 with 2 Axes>"
      ]
     },
     "metadata": {
      "needs_background": "light"
     },
     "output_type": "display_data"
    }
   ],
   "source": [
    "# Set two different size x-axis and two different y-axis on 1 plot.\n",
    "# Please find specifications for the .subplots parameters at:\n",
    "# https://matplotlib.org/stable/api/_as_gen/matplotlib.pyplot.subplot.html\n",
    "\n",
    "fig=plt.figure(figsize=(12,10))\n",
    "\n",
    "ax = fig.add_subplot(111, label=\"1\")\n",
    "ax2 = fig.add_subplot(111, label=\"2\", frame_on=False)\n",
    "\n",
    "# Unemployment rate\n",
    "ax.plot(x_axis2,y_axis2, color=\"red\")\n",
    "ax.set_xlabel(\"\", color=\"red\")\n",
    "ax.set_ylabel(\"Unemployment Rate US\", fontsize=12, color=\"red\")\n",
    "ax.tick_params(axis='x', colors=\"red\")\n",
    "ax.tick_params(axis='y', colors=\"red\")\n",
    "ax.set_xticks(x_axis2)\n",
    "ax.set_xticklabels(x_axis2, fontsize=10, rotation=\"15\")\n",
    "\n",
    "# Spacing tweaked to prevent clipping of tick-labels\n",
    "plt.subplots_adjust(bottom=0.15)\n",
    "\n",
    "# Pad margins so that markers don't get clipped by the axes\n",
    "plt.margins(0.2)\n",
    "\n",
    "# Plot the vaccinations administered in terms of 10 millions\n",
    "fig.subplots_adjust(bottom=0.2, left=0.1)\n",
    "ax2.plot(x_axis1,y_axis1,color=\"blue\")\n",
    "ax2.xaxis.tick_top()\n",
    "ax2.yaxis.tick_right()\n",
    "ax2.set_xlabel('', color=\"blue\") \n",
    "ax2.set_ylabel('Vaccinations Administered in 10 millions', fontsize=12, color=\"blue\")       \n",
    "ax2.xaxis.set_label_position('top') \n",
    "ax2.yaxis.set_label_position('right') \n",
    "ax2.tick_params(axis='x', colors=\"blue\")\n",
    "ax2.tick_params(axis='y', colors=\"blue\")\n",
    "ax2.set_xticklabels(x_axis1, fontsize=10, rotation=\"15\")\n",
    "\n",
    "plt.title(\"Covid Vaccinations Administered (in 10 millions) and Unemployment Rate\", fontsize=14)\n",
    "\n",
    "plt.show()\n"
   ]
  },
  {
   "cell_type": "markdown",
   "metadata": {},
   "source": [
    "#### Scatter Plot and correlation\n",
    "Let's get the x-axis and y-axis values for the scatter plot so we can do a correlation on\n",
    "the number of vaccinations administered (in 10 millions) versus unemployment in the US.\n",
    "\n",
    "To do a scatter plot the number of elements in the x-axis and y-axis must be equivalent.\n",
    "Vaccinations administered data was only available from December 2020 through July 2021. For unemployment\n",
    "numbers were available from January 2020 through June 2021 so we need to \"throw out\" some members of our\n",
    "data set. That means keeping data from December 2020 through June 2021 and discarding the other data elements."
   ]
  },
  {
   "cell_type": "code",
   "execution_count": 76,
   "metadata": {},
   "outputs": [
    {
     "data": {
      "text/plain": [
       "440     0.374\n",
       "441     3.112\n",
       "442     7.524\n",
       "443    15.027\n",
       "444    24.016\n",
       "445    29.589\n",
       "446    32.652\n",
       "Name: Covid_Vacs_Administered (in millions), dtype: float64"
      ]
     },
     "execution_count": 76,
     "metadata": {},
     "output_type": "execute_result"
    }
   ],
   "source": [
    "# The vaccinations administered December 2020 - June 2021\n",
    "# us_location numbers in 10 millions after another division of 10.\n",
    "vaccs = us_location.loc[us_location[\"yyyy-mm\"] < \"2021/07\"] \n",
    "vaccs_axis = vaccs[\"Covid_Vacs_Administered (in millions)\"]/10\n",
    "vaccs_axis"
   ]
  },
  {
   "cell_type": "code",
   "execution_count": 77,
   "metadata": {},
   "outputs": [],
   "source": [
    "# Use only December 2020 - June 2021 for unemployment\n",
    "unemp_axis = [6.7,6.3,6.2,6.0,6.1,5.8,5.9]"
   ]
  },
  {
   "cell_type": "code",
   "execution_count": 78,
   "metadata": {},
   "outputs": [
    {
     "name": "stdout",
     "output_type": "stream",
     "text": [
      "The correlation between both factors is -0.86\n"
     ]
    },
    {
     "data": {
      "image/png": "[encoded data removed]",
      "text/plain": [
       "<Figure size 432x288 with 1 Axes>"
      ]
     },
     "metadata": {
      "needs_background": "light"
     },
     "output_type": "display_data"
    }
   ],
   "source": [
    "# The scatter plot\n",
    "plt.scatter(vaccs_axis,unemp_axis)\n",
    "plt.ylabel(\"Unemployment Rate\")\n",
    "plt.xlabel(\"Vaccinations Administered (in 10 millions)\")\n",
    "plt.title(\"Vaccinations Administered (in 10 millions) vs. Unemployment Rate\")\n",
    "\n",
    "# Compute the Pearson correlation coefficient between \"Vaccines Administered\"\n",
    "# and \"Unemployment Rate\"\n",
    "\n",
    "# A negative or inverse correlation describes the extent to which two variables \n",
    "# move in opposing directions. In this case, as more Covid vaccinations were \n",
    "# administered there was a decrease in the unemployment rate.\n",
    "\n",
    "correlation = st.pearsonr(vaccs_axis, unemp_axis)\n",
    "print(f\"The correlation between both factors is {round(correlation[0],2)}\")\n"
   ]
  },
  {
   "cell_type": "code",
   "execution_count": 79,
   "metadata": {},
   "outputs": [
    {
     "name": "stdout",
     "output_type": "stream",
     "text": [
      "The r-squared is: 0.7469698787763827\n",
      "The line is described as: y = -0.02x + 6.46\n",
      "The pvalue is: 0.012099815814797394\n",
      "The stderr is: 0.0051897377884630854\n"
     ]
    },
    {
     "data": {
      "image/png": "[encoded data removed]",
      "text/plain": [
       "<Figure size 432x288 with 1 Axes>"
      ]
     },
     "metadata": {
      "needs_background": "light"
     },
     "output_type": "display_data"
    }
   ],
   "source": [
    "# Calculate and show the linear regression equation and line to plot.\n",
    "(slope, intercept, rvalue, pvalue, stderr) = linregress(vaccs_axis, unemp_axis)\n",
    "regress_values = vaccs_axis * slope + intercept\n",
    "line_eq = \"y = \" + str(round(slope,2)) + \"x + \" + str(round(intercept,2))\n",
    "plt.scatter(vaccs_axis, unemp_axis)\n",
    "plt.plot(vaccs_axis,regress_values,\"r-\")\n",
    "plt.annotate(line_eq,(10,6.3),fontsize=15,color=\"red\")\n",
    "plt.xlabel('Vaccinations Administered (in 10 millions)')\n",
    "plt.ylabel('Unemployment Rate')\n",
    "plt.title(\"Vaccinations Administered (in millions) compared to Unemployment Rate\")\n",
    "print(f\"The r-squared is: {rvalue**2}\")\n",
    "print(f\"The line is described as: {line_eq}\")\n",
    "print(f\"The pvalue is: {pvalue}\")\n",
    "print(f\"The stderr is: {stderr}\")\n",
    "plt.show()"
   ]
  },
  {
   "cell_type": "code",
   "execution_count": null,
   "metadata": {},
   "outputs": [],
   "source": []
  }
 ],
 "metadata": {
  "kernelspec": {
   "display_name": "Python [conda env:PythonData] *",
   "language": "python",
   "name": "conda-env-PythonData-py"
  },
  "language_info": {
   "codemirror_mode": {
    "name": "ipython",
    "version": 3
   },
   "file_extension": ".py",
   "mimetype": "text/x-python",
   "name": "python",
   "nbconvert_exporter": "python",
   "pygments_lexer": "ipython3",
   "version": "3.6.10"
  }
 },
 "nbformat": 4,
 "nbformat_minor": 4
}
